{
 "cells": [
  {
   "cell_type": "code",
   "execution_count": 1,
   "metadata": {},
   "outputs": [],
   "source": [
    "import tensorflow as tf\n",
    "import keras\n",
    "from keras.layers import Conv2D, Conv2DTranspose, Input, Flatten, Dense, Lambda, Reshape\n",
    "from keras.models import Model\n",
    "from keras.datasets import mnist\n",
    "from keras import backend as K\n",
    "import numpy as np\n",
    "import matplotlib.pyplot as plt"
   ]
  },
  {
   "cell_type": "code",
   "execution_count": 2,
   "metadata": {},
   "outputs": [],
   "source": [
    "#load MNIST \n",
    "(x_train, y_train), (x_test, y_test) = mnist.load_data()\n",
    "\n",
    "#Normalize and reshape\n",
    "x_train = x_train.astype('float32')\n",
    "x_test = x_test.astype('float32')\n",
    "x_train = x_train / 255\n",
    "x_tes = x_test / 255\n",
    "\n",
    "#Reshape\n",
    "img_width = x_train.shape[1]\n",
    "img_height = x_train.shape[2]\n",
    "num_channels = 1 #grey scale\n",
    "x_train = x_train.reshape(x_train.shape[0], img_height, img_width, num_channels)\n",
    "x_test = x_test.reshape(x_test.shape[0], img_height, img_width, num_channels)\n",
    "input_shape = (img_height, img_width, num_channels)"
   ]
  },
  {
   "cell_type": "code",
   "execution_count": 3,
   "metadata": {},
   "outputs": [
    {
     "data": {
      "text/plain": [
       "(60000, 28, 28, 1)"
      ]
     },
     "execution_count": 3,
     "metadata": {},
     "output_type": "execute_result"
    }
   ],
   "source": [
    "x_train.shape"
   ]
  },
  {
   "cell_type": "code",
   "execution_count": 4,
   "metadata": {},
   "outputs": [
    {
     "data": {
      "image/png": "[encoded data removed]",
      "text/plain": [
       "<Figure size 432x288 with 3 Axes>"
      ]
     },
     "metadata": {
      "needs_background": "light"
     },
     "output_type": "display_data"
    }
   ],
   "source": [
    "#Visualizing few images\n",
    "plt.figure(1)\n",
    "plt.subplot(221)\n",
    "plt.imshow(x_train[42][:,:,0])\n",
    "\n",
    "plt.subplot(222)\n",
    "plt.imshow(x_train[420][:,:,0])\n",
    "\n",
    "plt.subplot(223)\n",
    "plt.imshow(x_train[4200][:,:,0])\n",
    "plt.show()"
   ]
  },
  {
   "cell_type": "code",
   "execution_count": 13,
   "metadata": {},
   "outputs": [],
   "source": [
    "#Build the model\n",
    "latent_dim = 2 # number of latent dim parameters\n",
    "\n",
    "input_img = Input(shape = input_shape, name='encoder_input')\n",
    "modelED = Sequential()\n",
    "#Encoder section\n",
    "modelED.add()\n",
    "x = Conv2D(32, 3, padding='same', activation='relu')(input_img)\n",
    "x = Conv2D(64, 3, padding='same', activation='relu',strides=(2,2))(x)\n",
    "x = Conv2D(64, 3, padding='same', activation='relu')(x)\n",
    "x = Conv2D(64, 3, padding='same', activation='relu')(x)\n",
    "\n",
    "conv_shape = K.int_shape(x)#shape to be provided as an input to the decoder\n",
    "\n",
    "#flatten\n",
    "x = Flatten()(x)\n",
    "x = Dense(32,activation = 'relu')(x)\n",
    "\n",
    "z_mu = Dense(latent_dim, name = 'latent_mu')(x) #mean values of encoded input\n",
    "z_sigma = Dense(latent_dim, name = 'latent_sigma')(x) #std deviation of encoded input\n",
    "\n",
    "eps = tf.random_normal(tf.shape())"
   ]
  },
  {
   "cell_type": "code",
   "execution_count": null,
   "metadata": {},
   "outputs": [],
   "source": []
  }
 ],
 "metadata": {
  "kernelspec": {
   "display_name": "Python 3",
   "language": "python",
   "name": "python3"
  },
  "language_info": {
   "codemirror_mode": {
    "name": "ipython",
    "version": 3
   },
   "file_extension": ".py",
   "mimetype": "text/x-python",
   "name": "python",
   "nbconvert_exporter": "python",
   "pygments_lexer": "ipython3",
   "version": "3.8.5"
  }
 },
 "nbformat": 4,
 "nbformat_minor": 4
}
