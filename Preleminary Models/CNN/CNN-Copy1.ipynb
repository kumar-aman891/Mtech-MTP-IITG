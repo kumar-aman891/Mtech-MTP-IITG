{
 "cells": [
  {
   "cell_type": "markdown",
   "metadata": {},
   "source": [
    "Importing the Libraries"
   ]
  },
  {
   "cell_type": "code",
   "execution_count": 25,
   "metadata": {},
   "outputs": [],
   "source": [
    "import tensorflow as tf\n",
    "from keras.preprocessing.image import ImageDataGenerator"
   ]
  },
  {
   "cell_type": "markdown",
   "metadata": {},
   "source": [
    "Part 1 : Data Preprocessing"
   ]
  },
  {
   "cell_type": "code",
   "execution_count": 14,
   "metadata": {},
   "outputs": [
    {
     "name": "stdout",
     "output_type": "stream",
     "text": [
      "Found 8000 images belonging to 2 classes.\n",
      "Found 2000 images belonging to 2 classes.\n"
     ]
    }
   ],
   "source": [
    "#preprocessing the training set\n",
    "train_datagen = ImageDataGenerator(rescale = 1./255,\n",
    "                                  shear_range = 0.2,\n",
    "                                  zoom_range = 0.2,\n",
    "                                  horizontal_flip = True)\n",
    "training_set = train_datagen.flow_from_directory('dataset/training_set',\n",
    "                                                target_size = (64,64),\n",
    "                                                batch_size = 32,\n",
    "                                                 class_mode ='binary')\n",
    "#preprocessing the test set\n",
    "test_datagen = ImageDataGenerator(rescale = 1./255)\n",
    "test_set = test_datagen.flow_from_directory('dataset/test_set',\n",
    "                                                target_size = (64,64),\n",
    "                                                batch_size = 32,\n",
    "                                                 class_mode ='binary')\n",
    "                                                 "
   ]
  },
  {
   "cell_type": "markdown",
   "metadata": {},
   "source": [
    "Part 2 : Building The CNN"
   ]
  },
  {
   "cell_type": "code",
   "execution_count": 7,
   "metadata": {},
   "outputs": [],
   "source": [
    "cnn = tf.keras.models.Sequential()"
   ]
  },
  {
   "cell_type": "code",
   "execution_count": 9,
   "metadata": {},
   "outputs": [],
   "source": [
    "#Step1 : Convolution\n",
    "cnn.add(tf.keras.layers.Conv2D(filters = 32, kernel_size = 3, activation = 'relu', input_shape = [64,64,3]))\n",
    "\n",
    "#step2 : Pooling\n",
    "cnn.add(tf.keras.layers.MaxPool2D(pool_size=2, strides = 2))\n",
    "\n",
    "#Adding a second Convolution layer\n",
    "cnn.add(tf.keras.layers.Conv2D(filters = 32, kernel_size =3, activation ='relu'))\n",
    "cnn.add(tf.keras.layers.MaxPool2D(pool_size=2, strides = 2))"
   ]
  },
  {
   "cell_type": "code",
   "execution_count": 10,
   "metadata": {},
   "outputs": [],
   "source": [
    "#Flattening\n",
    "cnn.add(tf.keras.layers.Flatten())"
   ]
  },
  {
   "cell_type": "code",
   "execution_count": 11,
   "metadata": {},
   "outputs": [],
   "source": [
    "#Fully connecting(As in ANN)\n",
    "cnn.add(tf.keras.layers.Dense(units = 128, activation = 'relu'))\n",
    "\n",
    "#Output layer\n",
    "cnn.add(tf.keras.layers.Dense(units = 1, activation = 'sigmoid'))"
   ]
  },
  {
   "cell_type": "markdown",
   "metadata": {},
   "source": [
    "Part 3 : Training the CNN"
   ]
  },
  {
   "cell_type": "code",
   "execution_count": 12,
   "metadata": {},
   "outputs": [],
   "source": [
    "cnn.compile(optimizer = 'adam', loss = 'binary_crossentropy', metrics = ['accuracy'])"
   ]
  },
  {
   "cell_type": "markdown",
   "metadata": {},
   "source": [
    "Training the CNN on training_set and Evaluating it on test_set"
   ]
  },
  {
   "cell_type": "code",
   "execution_count": 15,
   "metadata": {},
   "outputs": [
    {
     "name": "stdout",
     "output_type": "stream",
     "text": [
      "Epoch 1/25\n",
      "250/250 [==============================] - 33s 129ms/step - loss: 0.6855 - accuracy: 0.5419 - val_loss: 0.6615 - val_accuracy: 0.6210\n",
      "Epoch 2/25\n",
      "250/250 [==============================] - 31s 125ms/step - loss: 0.6257 - accuracy: 0.6576 - val_loss: 0.6059 - val_accuracy: 0.7000\n",
      "Epoch 3/25\n",
      "250/250 [==============================] - 29s 114ms/step - loss: 0.5858 - accuracy: 0.6910 - val_loss: 0.5383 - val_accuracy: 0.7320\n",
      "Epoch 4/25\n",
      "250/250 [==============================] - 29s 115ms/step - loss: 0.5394 - accuracy: 0.7291 - val_loss: 0.5206 - val_accuracy: 0.7420\n",
      "Epoch 5/25\n",
      "250/250 [==============================] - 29s 116ms/step - loss: 0.5099 - accuracy: 0.7455 - val_loss: 0.5123 - val_accuracy: 0.7440\n",
      "Epoch 6/25\n",
      "250/250 [==============================] - 29s 115ms/step - loss: 0.4895 - accuracy: 0.7639 - val_loss: 0.5010 - val_accuracy: 0.7555\n",
      "Epoch 7/25\n",
      "250/250 [==============================] - 29s 115ms/step - loss: 0.4692 - accuracy: 0.7731 - val_loss: 0.4622 - val_accuracy: 0.7790\n",
      "Epoch 8/25\n",
      "250/250 [==============================] - 29s 116ms/step - loss: 0.4528 - accuracy: 0.7822 - val_loss: 0.5483 - val_accuracy: 0.7290\n",
      "Epoch 9/25\n",
      "250/250 [==============================] - 29s 116ms/step - loss: 0.4388 - accuracy: 0.7966 - val_loss: 0.4766 - val_accuracy: 0.7800\n",
      "Epoch 10/25\n",
      "250/250 [==============================] - 29s 115ms/step - loss: 0.4260 - accuracy: 0.7981 - val_loss: 0.4256 - val_accuracy: 0.8055\n",
      "Epoch 11/25\n",
      "250/250 [==============================] - 29s 117ms/step - loss: 0.4126 - accuracy: 0.8119 - val_loss: 0.4165 - val_accuracy: 0.8075\n",
      "Epoch 12/25\n",
      "250/250 [==============================] - 31s 122ms/step - loss: 0.3961 - accuracy: 0.8190 - val_loss: 0.4337 - val_accuracy: 0.8000\n",
      "Epoch 13/25\n",
      "250/250 [==============================] - 30s 118ms/step - loss: 0.3908 - accuracy: 0.8220 - val_loss: 0.4322 - val_accuracy: 0.8005\n",
      "Epoch 14/25\n",
      "250/250 [==============================] - 29s 116ms/step - loss: 0.3890 - accuracy: 0.8186 - val_loss: 0.4446 - val_accuracy: 0.7975\n",
      "Epoch 15/25\n",
      "250/250 [==============================] - 29s 117ms/step - loss: 0.3748 - accuracy: 0.8276 - val_loss: 0.4312 - val_accuracy: 0.8010\n",
      "Epoch 16/25\n",
      "250/250 [==============================] - 29s 117ms/step - loss: 0.3573 - accuracy: 0.8386 - val_loss: 0.3990 - val_accuracy: 0.8165\n",
      "Epoch 17/25\n",
      "250/250 [==============================] - 32s 128ms/step - loss: 0.3430 - accuracy: 0.8465 - val_loss: 0.4118 - val_accuracy: 0.8230\n",
      "Epoch 18/25\n",
      "250/250 [==============================] - 30s 120ms/step - loss: 0.3361 - accuracy: 0.8493 - val_loss: 0.4085 - val_accuracy: 0.8225\n",
      "Epoch 19/25\n",
      "250/250 [==============================] - 30s 120ms/step - loss: 0.3230 - accuracy: 0.8569 - val_loss: 0.3774 - val_accuracy: 0.8440\n",
      "Epoch 20/25\n",
      "250/250 [==============================] - 30s 122ms/step - loss: 0.3281 - accuracy: 0.8568 - val_loss: 0.4116 - val_accuracy: 0.8145\n",
      "Epoch 21/25\n",
      "250/250 [==============================] - 29s 117ms/step - loss: 0.3092 - accuracy: 0.8662 - val_loss: 0.3971 - val_accuracy: 0.8335\n",
      "Epoch 22/25\n",
      "250/250 [==============================] - 29s 116ms/step - loss: 0.3092 - accuracy: 0.8646 - val_loss: 0.4172 - val_accuracy: 0.8200\n",
      "Epoch 23/25\n",
      "250/250 [==============================] - 29s 117ms/step - loss: 0.2852 - accuracy: 0.8781 - val_loss: 0.3694 - val_accuracy: 0.8405\n",
      "Epoch 24/25\n",
      "250/250 [==============================] - 29s 116ms/step - loss: 0.2752 - accuracy: 0.8817 - val_loss: 0.4132 - val_accuracy: 0.8210\n",
      "Epoch 25/25\n",
      "250/250 [==============================] - 29s 117ms/step - loss: 0.2719 - accuracy: 0.8839 - val_loss: 0.4413 - val_accuracy: 0.8070\n"
     ]
    },
    {
     "data": {
      "text/plain": [
       "<keras.callbacks.History at 0x1fb9c8e44f0>"
      ]
     },
     "execution_count": 15,
     "metadata": {},
     "output_type": "execute_result"
    }
   ],
   "source": [
    "cnn.fit(x = training_set, validation_data = test_set, epochs = 25)"
   ]
  },
  {
   "cell_type": "markdown",
   "metadata": {},
   "source": [
    "Part 4 : Making a single prediction"
   ]
  },
  {
   "cell_type": "code",
   "execution_count": 45,
   "metadata": {},
   "outputs": [
    {
     "data": {
      "text/plain": [
       "{'cats': 0, 'dogs': 1}"
      ]
     },
     "execution_count": 45,
     "metadata": {},
     "output_type": "execute_result"
    }
   ],
   "source": [
    "training_set.class_indices"
   ]
  },
  {
   "cell_type": "code",
   "execution_count": 42,
   "metadata": {},
   "outputs": [
    {
     "name": "stdout",
     "output_type": "stream",
     "text": [
      "1/1 [==============================] - 0s 15ms/step\n"
     ]
    }
   ],
   "source": [
    "import numpy as np\n",
    "test_image = tf.keras.utils.load_img('dataset/single_prediction/cat_or_dog_2.jpg', target_size = (64, 64))\n",
    "tf.keras.utils.img_to_array(test_image, data_format=None, dtype=None)\n",
    "test_image = np.expand_dims(test_image, axis = 0)\n",
    "result = cnn.predict(test_image)\n",
    "training_set.class_indices\n",
    "if result[0][0] == 1:\n",
    "  prediction = 'dog'\n",
    "else:\n",
    "  prediction = 'cat'"
   ]
  },
  {
   "cell_type": "code",
   "execution_count": 43,
   "metadata": {},
   "outputs": [
    {
     "name": "stdout",
     "output_type": "stream",
     "text": [
      "cat\n"
     ]
    }
   ],
   "source": [
    "print(prediction)"
   ]
  },
  {
   "cell_type": "code",
   "execution_count": 44,
   "metadata": {},
   "outputs": [
    {
     "name": "stdout",
     "output_type": "stream",
     "text": [
      "(1, 1)\n"
     ]
    }
   ],
   "source": [
    "print(result.shape)"
   ]
  },
  {
   "cell_type": "code",
   "execution_count": null,
   "metadata": {},
   "outputs": [],
   "source": []
  }
 ],
 "metadata": {
  "kernelspec": {
   "display_name": "Python 3",
   "language": "python",
   "name": "python3"
  },
  "language_info": {
   "codemirror_mode": {
    "name": "ipython",
    "version": 3
   },
   "file_extension": ".py",
   "mimetype": "text/x-python",
   "name": "python",
   "nbconvert_exporter": "python",
   "pygments_lexer": "ipython3",
   "version": "3.8.5"
  }
 },
 "nbformat": 4,
 "nbformat_minor": 4
}
