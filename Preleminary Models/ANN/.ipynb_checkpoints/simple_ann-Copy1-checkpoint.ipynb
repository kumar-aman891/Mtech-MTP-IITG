{
 "cells": [
  {
   "cell_type": "code",
   "execution_count": 1,
   "metadata": {},
   "outputs": [],
   "source": [
    "import tensorflow as tf\n",
    "import numpy as np\n",
    "import matplotlib.pyplot as plt\n",
    "from tensorflow import keras"
   ]
  },
  {
   "cell_type": "code",
   "execution_count": 2,
   "metadata": {},
   "outputs": [],
   "source": [
    "#Loading the dataset\n",
    "from keras.datasets import mnist\n",
    "(x_train, y_train), (x_test, y_test) = mnist.load_data()"
   ]
  },
  {
   "cell_type": "code",
   "execution_count": 3,
   "metadata": {},
   "outputs": [
    {
     "name": "stdout",
     "output_type": "stream",
     "text": [
      "(60000, 28, 28) (60000,)\n",
      "4\n"
     ]
    },
    {
     "data": {
      "text/plain": [
       "numpy.ndarray"
      ]
     },
     "execution_count": 3,
     "metadata": {},
     "output_type": "execute_result"
    }
   ],
   "source": [
    "#Checking the details about dataset\n",
    "print(x_train.shape,y_train.shape)\n",
    "print((y_train[150]))\n",
    "type(y_train[0])\n",
    "type(x_train[150])"
   ]
  },
  {
   "cell_type": "code",
   "execution_count": 4,
   "metadata": {},
   "outputs": [
    {
     "data": {
      "text/plain": [
       "28"
      ]
     },
     "execution_count": 4,
     "metadata": {},
     "output_type": "execute_result"
    }
   ],
   "source": [
    "shapee = keras.backend.int_shape(x_train)\n",
    "shapee[1]"
   ]
  },
  {
   "cell_type": "code",
   "execution_count": 5,
   "metadata": {},
   "outputs": [],
   "source": [
    "#preprocessing the data\n",
    "x_train = x_train.astype('float32') /255\n",
    "x_test = x_test.astype('float32') /255\n",
    "\n",
    "#reshaping the data to take it as an input to the neural network\n",
    "x_train = x_train.reshape(-1,28*28)\n",
    "x_test = x_test.reshape(-1,28*28)"
   ]
  },
  {
   "cell_type": "code",
   "execution_count": 6,
   "metadata": {},
   "outputs": [
    {
     "data": {
      "text/plain": [
       "(60000, 784)"
      ]
     },
     "execution_count": 6,
     "metadata": {},
     "output_type": "execute_result"
    }
   ],
   "source": [
    "x_train.shape"
   ]
  },
  {
   "cell_type": "code",
   "execution_count": 7,
   "metadata": {},
   "outputs": [
    {
     "ename": "SyntaxError",
     "evalue": "invalid syntax (<ipython-input-7-ee4c9b7c271b>, line 42)",
     "output_type": "error",
     "traceback": [
      "\u001b[1;36m  File \u001b[1;32m\"<ipython-input-7-ee4c9b7c271b>\"\u001b[1;36m, line \u001b[1;32m42\u001b[0m\n\u001b[1;33m    trainable = True\u001b[0m\n\u001b[1;37m    ^\u001b[0m\n\u001b[1;31mSyntaxError\u001b[0m\u001b[1;31m:\u001b[0m invalid syntax\n"
     ]
    }
   ],
   "source": [
    "#Defining custom layer\n",
    "#template 1\n",
    "class Dens(keras.layers.Layer):#this class inherits the Layer class from the layers module of keras\n",
    "    #setting up the constructor\n",
    "    def __init__(self, a_units, a_input_dim):#a simply is there as i m differentitaing them as arguments\n",
    "        super(Dens, self).__init__() #this step will run the super class that is the layer class(dont know its significance yet) \n",
    "        #defining the weights\n",
    "        self.w = self.add_weight(\n",
    "            name = 'w',\n",
    "            shape = (a_input_dim, a_units),\n",
    "            initializer = \"random_normal\",\n",
    "            trainable = True\n",
    "        )\n",
    "        #defining the bias(one for each unit)\n",
    "        self.b = self.add_weight(\n",
    "            name = 'b',\n",
    "            shape = (a_units,),\n",
    "            initializer = 'zeros',\n",
    "            trainable = True\n",
    "        )\n",
    "    #defining a method to call this layer that will take inputs and return the wx+b type of thing\n",
    "    def call(self, inputs):\n",
    "        return tf.matmul(inputs, self.w) + self.b\n",
    "    \n",
    "#template 2\n",
    "class simpledense(keras.layers.Layer):\n",
    "    def __init__(self, a_units):\n",
    "        super(simpledense, self).__init__()\n",
    "        self.units = a_units\n",
    "    \n",
    "    def build(self, input_shape):\n",
    "        self.w = self.add_weight(\n",
    "            name = 'w',\n",
    "            shape = (input_shape[-1], self.a_units),#-1 as we have number of training examples in the first dimension and size of each example in the second i.e 784\n",
    "            initializer = \"random_normal\",\n",
    "            trainable = True\n",
    "        )\n",
    "        self.b = self.add_weight(\n",
    "            name = 'b',\n",
    "            shape = (self.units,),\n",
    "            initializer = \"random_normal\"\n",
    "            trainable = True\n",
    "        )\n",
    "    def call(self, inputs):\n",
    "        return tf.matmul(inputs, self.w) + self.b\n",
    "#defining a class for relu function\n",
    "class MyRelu(keras.layers.Layer):\n",
    "    def __init__(self):\n",
    "        super(MyRelu, self).__init__()\n",
    "\n",
    "    def call(self , x):\n",
    "        return tf.math.maximum(x, 0)\n",
    "\n",
    "#defining the model class\n",
    "class MyModel(keras.Model):\n",
    "\n",
    "    #defining and initializing the layers\n",
    "    def __init__(self,num_classes):#num_classes = 10 for mnist(0-9)\n",
    "        super(MyModel, self).__init__()\n",
    "        self.dense1 = Dens(64, 784)\n",
    "        self.dense2 = Dens(32,64)\n",
    "    def call(self, input_tensor):\n",
    "        x = tf.nn.relu(self.dense1(input_tensor))\n",
    "        return self.dense2(x)\n",
    "model = MyModel()\n",
    "model.compile(\n",
    "    loss = keras.losses.SparseCategoricalCrossentropy(from_logits=True),\n",
    "    optimizer = keras.optimizers.Adam(),metrics = [\"accuracy\"]\n",
    ")\n",
    "\n",
    "\n",
    "\n",
    "\n",
    "\n"
   ]
  },
  {
   "cell_type": "code",
   "execution_count": 48,
   "metadata": {},
   "outputs": [],
   "source": [
    "class state():\n",
    "    def __init__(self):\n",
    "        print(\"this is state class\")\n",
    "        self.state1 = \"main state\"\n",
    "class happystate(state):\n",
    "    def __init__(self):\n",
    "        super(happystate,self).__init__()\n",
    "        print(\"in the happystate\")\n",
    "        self.state2 = \"happystate\"\n",
    "        "
   ]
  },
  {
   "cell_type": "code",
   "execution_count": 50,
   "metadata": {},
   "outputs": [
    {
     "name": "stdout",
     "output_type": "stream",
     "text": [
      "this is state class\n",
      "in the happystate\n",
      "<__main__.happystate object at 0x000001B6ACDE1100>\n"
     ]
    }
   ],
   "source": [
    "a = happystate()\n",
    "print(a)"
   ]
  },
  {
   "cell_type": "code",
   "execution_count": null,
   "metadata": {},
   "outputs": [],
   "source": []
  },
  {
   "cell_type": "code",
   "execution_count": null,
   "metadata": {},
   "outputs": [],
   "source": []
  }
 ],
 "metadata": {
  "kernelspec": {
   "display_name": "Python 3",
   "language": "python",
   "name": "python3"
  },
  "language_info": {
   "codemirror_mode": {
    "name": "ipython",
    "version": 3
   },
   "file_extension": ".py",
   "mimetype": "text/x-python",
   "name": "python",
   "nbconvert_exporter": "python",
   "pygments_lexer": "ipython3",
   "version": "3.8.5"
  },
  "vscode": {
   "interpreter": {
    "hash": "6f5583cf1d9466b5c27e75c89cc6b383bed5736d6b16c51c8074d8690011a952"
   }
  }
 },
 "nbformat": 4,
 "nbformat_minor": 4
}
