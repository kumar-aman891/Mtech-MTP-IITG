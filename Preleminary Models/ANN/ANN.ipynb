{
 "cells": [
  {
   "cell_type": "markdown",
   "metadata": {},
   "source": [
    "Importing the libraries"
   ]
  },
  {
   "cell_type": "code",
   "execution_count": 19,
   "metadata": {},
   "outputs": [
    {
     "name": "stdout",
     "output_type": "stream",
     "text": [
      "Requirement already satisfied: numpy in c:\\anaconda\\lib\\site-packages (1.23.1)\n",
      "Requirement already satisfied: pandas in c:\\anaconda\\lib\\site-packages (1.1.3)\n",
      "Requirement already satisfied: numpy>=1.15.4 in c:\\anaconda\\lib\\site-packages (from pandas) (1.23.1)\n",
      "Requirement already satisfied: pytz>=2017.2 in c:\\anaconda\\lib\\site-packages (from pandas) (2020.1)\n",
      "Requirement already satisfied: python-dateutil>=2.7.3 in c:\\anaconda\\lib\\site-packages (from pandas) (2.8.1)\n",
      "Requirement already satisfied: six>=1.5 in c:\\anaconda\\lib\\site-packages (from python-dateutil>=2.7.3->pandas) (1.15.0)\n",
      "Requirement already satisfied: tensorflow in c:\\anaconda\\lib\\site-packages (2.9.1)\n",
      "Requirement already satisfied: absl-py>=1.0.0 in c:\\anaconda\\lib\\site-packages (from tensorflow) (1.2.0)\n",
      "Requirement already satisfied: keras<2.10.0,>=2.9.0rc0 in c:\\anaconda\\lib\\site-packages (from tensorflow) (2.9.0)\n",
      "Requirement already satisfied: tensorboard<2.10,>=2.9 in c:\\anaconda\\lib\\site-packages (from tensorflow) (2.9.1)\n",
      "Requirement already satisfied: astunparse>=1.6.0 in c:\\anaconda\\lib\\site-packages (from tensorflow) (1.6.3)\n",
      "Requirement already satisfied: termcolor>=1.1.0 in c:\\anaconda\\lib\\site-packages (from tensorflow) (1.1.0)\n",
      "Requirement already satisfied: gast<=0.4.0,>=0.2.1 in c:\\anaconda\\lib\\site-packages (from tensorflow) (0.4.0)\n",
      "Requirement already satisfied: h5py>=2.9.0 in c:\\anaconda\\lib\\site-packages (from tensorflow) (2.10.0)\n",
      "Requirement already satisfied: tensorflow-io-gcs-filesystem>=0.23.1 in c:\\anaconda\\lib\\site-packages (from tensorflow) (0.26.0)\n",
      "Requirement already satisfied: typing-extensions>=3.6.6 in c:\\anaconda\\lib\\site-packages (from tensorflow) (3.7.4.3)\n",
      "Requirement already satisfied: six>=1.12.0 in c:\\anaconda\\lib\\site-packages (from tensorflow) (1.15.0)\n",
      "Requirement already satisfied: libclang>=13.0.0 in c:\\anaconda\\lib\\site-packages (from tensorflow) (14.0.1)\n",
      "Requirement already satisfied: numpy>=1.20 in c:\\anaconda\\lib\\site-packages (from tensorflow) (1.23.1)\n",
      "Requirement already satisfied: protobuf<3.20,>=3.9.2 in c:\\anaconda\\lib\\site-packages (from tensorflow) (3.19.4)\n",
      "Requirement already satisfied: grpcio<2.0,>=1.24.3 in c:\\anaconda\\lib\\site-packages (from tensorflow) (1.47.0)\n",
      "Requirement already satisfied: keras-preprocessing>=1.1.1 in c:\\anaconda\\lib\\site-packages (from tensorflow) (1.1.2)\n",
      "Requirement already satisfied: google-pasta>=0.1.1 in c:\\anaconda\\lib\\site-packages (from tensorflow) (0.2.0)\n",
      "Requirement already satisfied: wrapt>=1.11.0 in c:\\anaconda\\lib\\site-packages (from tensorflow) (1.11.2)\n",
      "Requirement already satisfied: flatbuffers<2,>=1.12 in c:\\anaconda\\lib\\site-packages (from tensorflow) (1.12)\n",
      "Requirement already satisfied: packaging in c:\\anaconda\\lib\\site-packages (from tensorflow) (20.4)\n",
      "Requirement already satisfied: tensorflow-estimator<2.10.0,>=2.9.0rc0 in c:\\anaconda\\lib\\site-packages (from tensorflow) (2.9.0)\n",
      "Requirement already satisfied: opt-einsum>=2.3.2 in c:\\anaconda\\lib\\site-packages (from tensorflow) (3.3.0)\n",
      "Requirement already satisfied: setuptools in c:\\anaconda\\lib\\site-packages (from tensorflow) (50.3.1.post20201107)\n",
      "Requirement already satisfied: wheel>=0.26 in c:\\anaconda\\lib\\site-packages (from tensorboard<2.10,>=2.9->tensorflow) (0.35.1)\n",
      "Requirement already satisfied: google-auth<3,>=1.6.3 in c:\\anaconda\\lib\\site-packages (from tensorboard<2.10,>=2.9->tensorflow) (2.9.1)\n",
      "Requirement already satisfied: tensorboard-plugin-wit>=1.6.0 in c:\\anaconda\\lib\\site-packages (from tensorboard<2.10,>=2.9->tensorflow) (1.8.1)\n",
      "Requirement already satisfied: tensorboard-data-server<0.7.0,>=0.6.0 in c:\\anaconda\\lib\\site-packages (from tensorboard<2.10,>=2.9->tensorflow) (0.6.1)\n",
      "Requirement already satisfied: google-auth-oauthlib<0.5,>=0.4.1 in c:\\anaconda\\lib\\site-packages (from tensorboard<2.10,>=2.9->tensorflow) (0.4.6)\n",
      "Requirement already satisfied: requests<3,>=2.21.0 in c:\\anaconda\\lib\\site-packages (from tensorboard<2.10,>=2.9->tensorflow) (2.24.0)\n",
      "Requirement already satisfied: werkzeug>=1.0.1 in c:\\anaconda\\lib\\site-packages (from tensorboard<2.10,>=2.9->tensorflow) (1.0.1)\n",
      "Requirement already satisfied: markdown>=2.6.8 in c:\\anaconda\\lib\\site-packages (from tensorboard<2.10,>=2.9->tensorflow) (3.4.1)\n",
      "Requirement already satisfied: pyparsing>=2.0.2 in c:\\anaconda\\lib\\site-packages (from packaging->tensorflow) (2.4.7)\n",
      "Requirement already satisfied: cachetools<6.0,>=2.0.0 in c:\\anaconda\\lib\\site-packages (from google-auth<3,>=1.6.3->tensorboard<2.10,>=2.9->tensorflow) (5.2.0)\n",
      "Requirement already satisfied: pyasn1-modules>=0.2.1 in c:\\anaconda\\lib\\site-packages (from google-auth<3,>=1.6.3->tensorboard<2.10,>=2.9->tensorflow) (0.2.8)\n",
      "Requirement already satisfied: rsa<5,>=3.1.4; python_version >= \"3.6\" in c:\\anaconda\\lib\\site-packages (from google-auth<3,>=1.6.3->tensorboard<2.10,>=2.9->tensorflow) (4.8)\n",
      "Requirement already satisfied: requests-oauthlib>=0.7.0 in c:\\anaconda\\lib\\site-packages (from google-auth-oauthlib<0.5,>=0.4.1->tensorboard<2.10,>=2.9->tensorflow) (1.3.1)\n",
      "Requirement already satisfied: urllib3!=1.25.0,!=1.25.1,<1.26,>=1.21.1 in c:\\anaconda\\lib\\site-packages (from requests<3,>=2.21.0->tensorboard<2.10,>=2.9->tensorflow) (1.25.11)\n",
      "Requirement already satisfied: certifi>=2017.4.17 in c:\\anaconda\\lib\\site-packages (from requests<3,>=2.21.0->tensorboard<2.10,>=2.9->tensorflow) (2020.6.20)\n",
      "Requirement already satisfied: chardet<4,>=3.0.2 in c:\\anaconda\\lib\\site-packages (from requests<3,>=2.21.0->tensorboard<2.10,>=2.9->tensorflow) (3.0.4)\n",
      "Requirement already satisfied: idna<3,>=2.5 in c:\\anaconda\\lib\\site-packages (from requests<3,>=2.21.0->tensorboard<2.10,>=2.9->tensorflow) (2.10)\n",
      "Requirement already satisfied: importlib-metadata>=4.4; python_version < \"3.10\" in c:\\anaconda\\lib\\site-packages (from markdown>=2.6.8->tensorboard<2.10,>=2.9->tensorflow) (4.12.0)\n",
      "Requirement already satisfied: pyasn1<0.5.0,>=0.4.6 in c:\\anaconda\\lib\\site-packages (from pyasn1-modules>=0.2.1->google-auth<3,>=1.6.3->tensorboard<2.10,>=2.9->tensorflow) (0.4.8)\n",
      "Requirement already satisfied: oauthlib>=3.0.0 in c:\\anaconda\\lib\\site-packages (from requests-oauthlib>=0.7.0->google-auth-oauthlib<0.5,>=0.4.1->tensorboard<2.10,>=2.9->tensorflow) (3.2.0)\n",
      "Requirement already satisfied: zipp>=0.5 in c:\\anaconda\\lib\\site-packages (from importlib-metadata>=4.4; python_version < \"3.10\"->markdown>=2.6.8->tensorboard<2.10,>=2.9->tensorflow) (3.4.0)\n"
     ]
    }
   ],
   "source": [
    "!pip install numpy\n",
    "!pip install pandas\n",
    "!pip install tensorflow"
   ]
  },
  {
   "cell_type": "raw",
   "metadata": {},
   "source": [
    "Part 1 : Data Preprocessing"
   ]
  },
  {
   "cell_type": "code",
   "execution_count": 5,
   "metadata": {},
   "outputs": [],
   "source": [
    "import numpy as np\n",
    "import pandas as pd\n",
    "import tensorflow as tf"
   ]
  },
  {
   "cell_type": "code",
   "execution_count": 6,
   "metadata": {},
   "outputs": [
    {
     "data": {
      "text/plain": [
       "'2.9.1'"
      ]
     },
     "execution_count": 6,
     "metadata": {},
     "output_type": "execute_result"
    }
   ],
   "source": [
    "tf.__version__"
   ]
  },
  {
   "cell_type": "code",
   "execution_count": 7,
   "metadata": {},
   "outputs": [],
   "source": [
    "dataset = pd.read_csv('Churn_Modelling.csv')\n",
    "x = dataset.iloc[:,3:-1].values\n",
    "y = dataset.iloc[:,-1].values"
   ]
  },
  {
   "cell_type": "code",
   "execution_count": 8,
   "metadata": {},
   "outputs": [
    {
     "name": "stdout",
     "output_type": "stream",
     "text": [
      "[[619 'France' 'Female' ... 1 1 101348.88]\n",
      " [608 'Spain' 'Female' ... 0 1 112542.58]\n",
      " [502 'France' 'Female' ... 1 0 113931.57]\n",
      " ...\n",
      " [709 'France' 'Female' ... 0 1 42085.58]\n",
      " [772 'Germany' 'Male' ... 1 0 92888.52]\n",
      " [792 'France' 'Female' ... 1 0 38190.78]]\n"
     ]
    }
   ],
   "source": [
    "print(x)"
   ]
  },
  {
   "cell_type": "code",
   "execution_count": 9,
   "metadata": {},
   "outputs": [
    {
     "name": "stdout",
     "output_type": "stream",
     "text": [
      "[1 0 1 ... 1 1 0]\n"
     ]
    }
   ],
   "source": [
    "print(y)"
   ]
  },
  {
   "cell_type": "markdown",
   "metadata": {},
   "source": [
    "Encoding Categorical Data"
   ]
  },
  {
   "cell_type": "markdown",
   "metadata": {},
   "source": [
    "Label encoding the \"Gender\" Column"
   ]
  },
  {
   "cell_type": "code",
   "execution_count": 12,
   "metadata": {},
   "outputs": [],
   "source": [
    "from sklearn.preprocessing import LabelEncoder\n",
    "le = LabelEncoder()\n",
    "x[:,2] = le.fit_transform(x[:,2])"
   ]
  },
  {
   "cell_type": "code",
   "execution_count": 13,
   "metadata": {},
   "outputs": [
    {
     "name": "stdout",
     "output_type": "stream",
     "text": [
      "[[619 'France' 0 ... 1 1 101348.88]\n",
      " [608 'Spain' 0 ... 0 1 112542.58]\n",
      " [502 'France' 0 ... 1 0 113931.57]\n",
      " ...\n",
      " [709 'France' 0 ... 0 1 42085.58]\n",
      " [772 'Germany' 1 ... 1 0 92888.52]\n",
      " [792 'France' 0 ... 1 0 38190.78]]\n"
     ]
    }
   ],
   "source": [
    "print(x)"
   ]
  },
  {
   "cell_type": "markdown",
   "metadata": {},
   "source": [
    "One Hot Encoding The \"Geography\" Column"
   ]
  },
  {
   "cell_type": "code",
   "execution_count": 15,
   "metadata": {},
   "outputs": [],
   "source": [
    "from sklearn.compose import ColumnTransformer\n",
    "from sklearn.preprocessing import OneHotEncoder\n",
    "ct = ColumnTransformer(transformers=[('encoder', OneHotEncoder(), [1])], remainder = 'passthrough')\n",
    "x = np.array(ct.fit_transform(x))"
   ]
  },
  {
   "cell_type": "code",
   "execution_count": 16,
   "metadata": {},
   "outputs": [
    {
     "name": "stdout",
     "output_type": "stream",
     "text": [
      "[[1.0 0.0 0.0 ... 1 1 101348.88]\n",
      " [0.0 0.0 1.0 ... 0 1 112542.58]\n",
      " [1.0 0.0 0.0 ... 1 0 113931.57]\n",
      " ...\n",
      " [1.0 0.0 0.0 ... 0 1 42085.58]\n",
      " [0.0 1.0 0.0 ... 1 0 92888.52]\n",
      " [1.0 0.0 0.0 ... 1 0 38190.78]]\n"
     ]
    }
   ],
   "source": [
    "print(x)"
   ]
  },
  {
   "cell_type": "markdown",
   "metadata": {},
   "source": [
    "Splitting the dataset into training and test set"
   ]
  },
  {
   "cell_type": "code",
   "execution_count": 17,
   "metadata": {},
   "outputs": [],
   "source": [
    "from sklearn.model_selection import train_test_split as tts\n",
    "x_train , x_test , y_train , y_test = tts(x, y, test_size = 0.2, random_state = 0)"
   ]
  },
  {
   "cell_type": "markdown",
   "metadata": {},
   "source": [
    "Feature Scaling"
   ]
  },
  {
   "cell_type": "code",
   "execution_count": 18,
   "metadata": {},
   "outputs": [],
   "source": [
    "from sklearn.preprocessing import StandardScaler\n",
    "sc = StandardScaler()\n",
    "x_train = sc.fit_transform(x_train)\n",
    "x_test = sc.transform(x_test)"
   ]
  },
  {
   "cell_type": "markdown",
   "metadata": {},
   "source": [
    "Part 2 : Building ANN"
   ]
  },
  {
   "cell_type": "code",
   "execution_count": 35,
   "metadata": {},
   "outputs": [],
   "source": [
    "#Initializing ANN\n",
    "ann = tf.keras.models.Sequential()\n",
    "\n",
    "#adding the input layer and the first hidden layer\n",
    "ann.add(tf.keras.layers.Dense(units =6 , activation = 'relu',input_shape = (12,)))\n",
    "\n",
    "#adding the second hidden layer\n",
    "ann.add(tf.keras.layers.Dense(units =6 , activation = 'relu'))\n",
    "\n",
    "#adding the output layer\n",
    "ann.add(tf.keras.layers.Dense(units =1 , activation = 'sigmoid'))"
   ]
  },
  {
   "cell_type": "markdown",
   "metadata": {},
   "source": [
    "Part 3 : Training The ANN"
   ]
  },
  {
   "cell_type": "code",
   "execution_count": 36,
   "metadata": {},
   "outputs": [],
   "source": [
    "ann.compile(optimizer = 'adam' , loss = 'binary_crossentropy', metrics=['accuracy'])"
   ]
  },
  {
   "cell_type": "markdown",
   "metadata": {},
   "source": [
    "Training the ANN on the training set"
   ]
  },
  {
   "cell_type": "code",
   "execution_count": 38,
   "metadata": {},
   "outputs": [
    {
     "name": "stdout",
     "output_type": "stream",
     "text": [
      "(8000, 12)\n",
      "Model: \"sequential_4\"\n",
      "_________________________________________________________________\n",
      " Layer (type)                Output Shape              Param #   \n",
      "=================================================================\n",
      " dense_10 (Dense)            (None, 6)                 78        \n",
      "                                                                 \n",
      " dense_11 (Dense)            (None, 6)                 42        \n",
      "                                                                 \n",
      " dense_12 (Dense)            (None, 1)                 7         \n",
      "                                                                 \n",
      "=================================================================\n",
      "Total params: 127\n",
      "Trainable params: 127\n",
      "Non-trainable params: 0\n",
      "_________________________________________________________________\n"
     ]
    }
   ],
   "source": [
    "print(x_train.shape)\n",
    "ann.summary()"
   ]
  },
  {
   "cell_type": "code",
   "execution_count": 39,
   "metadata": {},
   "outputs": [
    {
     "name": "stdout",
     "output_type": "stream",
     "text": [
      "Epoch 1/100\n",
      "250/250 [==============================] - 3s 724us/step - loss: 0.7295 - accuracy: 0.5194\n",
      "Epoch 2/100\n",
      "250/250 [==============================] - 0s 715us/step - loss: 0.5000 - accuracy: 0.7936\n",
      "Epoch 3/100\n",
      "250/250 [==============================] - 0s 693us/step - loss: 0.4517 - accuracy: 0.7965\n",
      "Epoch 4/100\n",
      "250/250 [==============================] - 0s 683us/step - loss: 0.4371 - accuracy: 0.8035\n",
      "Epoch 5/100\n",
      "250/250 [==============================] - 0s 689us/step - loss: 0.4295 - accuracy: 0.8130\n",
      "Epoch 6/100\n",
      "250/250 [==============================] - 0s 681us/step - loss: 0.4252 - accuracy: 0.8165\n",
      "Epoch 7/100\n",
      "250/250 [==============================] - 0s 685us/step - loss: 0.4222 - accuracy: 0.8204\n",
      "Epoch 8/100\n",
      "250/250 [==============================] - 0s 685us/step - loss: 0.4201 - accuracy: 0.8226\n",
      "Epoch 9/100\n",
      "250/250 [==============================] - 0s 673us/step - loss: 0.4185 - accuracy: 0.8236\n",
      "Epoch 10/100\n",
      "250/250 [==============================] - 0s 694us/step - loss: 0.4170 - accuracy: 0.8251\n",
      "Epoch 11/100\n",
      "250/250 [==============================] - 0s 693us/step - loss: 0.4151 - accuracy: 0.8286\n",
      "Epoch 12/100\n",
      "250/250 [==============================] - 0s 685us/step - loss: 0.4136 - accuracy: 0.8285\n",
      "Epoch 13/100\n",
      "250/250 [==============================] - 0s 689us/step - loss: 0.4126 - accuracy: 0.8296\n",
      "Epoch 14/100\n",
      "250/250 [==============================] - 0s 693us/step - loss: 0.4118 - accuracy: 0.8319\n",
      "Epoch 15/100\n",
      "250/250 [==============================] - 0s 705us/step - loss: 0.4107 - accuracy: 0.8319\n",
      "Epoch 16/100\n",
      "250/250 [==============================] - 0s 733us/step - loss: 0.4100 - accuracy: 0.8314\n",
      "Epoch 17/100\n",
      "250/250 [==============================] - 0s 703us/step - loss: 0.4090 - accuracy: 0.8313\n",
      "Epoch 18/100\n",
      "250/250 [==============================] - 0s 706us/step - loss: 0.4082 - accuracy: 0.8309\n",
      "Epoch 19/100\n",
      "250/250 [==============================] - 0s 725us/step - loss: 0.4073 - accuracy: 0.8315\n",
      "Epoch 20/100\n",
      "250/250 [==============================] - 0s 685us/step - loss: 0.4065 - accuracy: 0.8317\n",
      "Epoch 21/100\n",
      "250/250 [==============================] - 0s 695us/step - loss: 0.4054 - accuracy: 0.8320\n",
      "Epoch 22/100\n",
      "250/250 [==============================] - 0s 681us/step - loss: 0.4032 - accuracy: 0.8332\n",
      "Epoch 23/100\n",
      "250/250 [==============================] - 0s 697us/step - loss: 0.3979 - accuracy: 0.8334\n",
      "Epoch 24/100\n",
      "250/250 [==============================] - 0s 733us/step - loss: 0.3838 - accuracy: 0.8414\n",
      "Epoch 25/100\n",
      "250/250 [==============================] - 0s 737us/step - loss: 0.3698 - accuracy: 0.8524\n",
      "Epoch 26/100\n",
      "250/250 [==============================] - 0s 793us/step - loss: 0.3610 - accuracy: 0.8545\n",
      "Epoch 27/100\n",
      "250/250 [==============================] - 0s 785us/step - loss: 0.3557 - accuracy: 0.8568\n",
      "Epoch 28/100\n",
      "250/250 [==============================] - 0s 909us/step - loss: 0.3524 - accuracy: 0.8565\n",
      "Epoch 29/100\n",
      "250/250 [==============================] - 0s 757us/step - loss: 0.3500 - accuracy: 0.8562\n",
      "Epoch 30/100\n",
      "250/250 [==============================] - 0s 709us/step - loss: 0.3484 - accuracy: 0.8556\n",
      "Epoch 31/100\n",
      "250/250 [==============================] - 0s 745us/step - loss: 0.3470 - accuracy: 0.8565\n",
      "Epoch 32/100\n",
      "250/250 [==============================] - 0s 781us/step - loss: 0.3457 - accuracy: 0.8568\n",
      "Epoch 33/100\n",
      "250/250 [==============================] - 0s 757us/step - loss: 0.3449 - accuracy: 0.8571\n",
      "Epoch 34/100\n",
      "250/250 [==============================] - 0s 729us/step - loss: 0.3442 - accuracy: 0.8574\n",
      "Epoch 35/100\n",
      "250/250 [==============================] - 0s 717us/step - loss: 0.3435 - accuracy: 0.8583\n",
      "Epoch 36/100\n",
      "250/250 [==============================] - 0s 701us/step - loss: 0.3431 - accuracy: 0.8580\n",
      "Epoch 37/100\n",
      "250/250 [==============================] - 0s 713us/step - loss: 0.3425 - accuracy: 0.8581\n",
      "Epoch 38/100\n",
      "250/250 [==============================] - 0s 681us/step - loss: 0.3422 - accuracy: 0.8574\n",
      "Epoch 39/100\n",
      "250/250 [==============================] - 0s 709us/step - loss: 0.3416 - accuracy: 0.8584\n",
      "Epoch 40/100\n",
      "250/250 [==============================] - 0s 709us/step - loss: 0.3413 - accuracy: 0.8594\n",
      "Epoch 41/100\n",
      "250/250 [==============================] - 0s 681us/step - loss: 0.3409 - accuracy: 0.8601\n",
      "Epoch 42/100\n",
      "250/250 [==============================] - 0s 761us/step - loss: 0.3409 - accuracy: 0.8596\n",
      "Epoch 43/100\n",
      "250/250 [==============================] - 0s 749us/step - loss: 0.3406 - accuracy: 0.8615\n",
      "Epoch 44/100\n",
      "250/250 [==============================] - 0s 691us/step - loss: 0.3403 - accuracy: 0.8612\n",
      "Epoch 45/100\n",
      "250/250 [==============================] - 0s 709us/step - loss: 0.3400 - accuracy: 0.8597\n",
      "Epoch 46/100\n",
      "250/250 [==============================] - 0s 693us/step - loss: 0.3399 - accuracy: 0.8608\n",
      "Epoch 47/100\n",
      "250/250 [==============================] - 0s 689us/step - loss: 0.3397 - accuracy: 0.8624\n",
      "Epoch 48/100\n",
      "250/250 [==============================] - 0s 705us/step - loss: 0.3393 - accuracy: 0.8612\n",
      "Epoch 49/100\n",
      "250/250 [==============================] - 0s 693us/step - loss: 0.3390 - accuracy: 0.8609\n",
      "Epoch 50/100\n",
      "250/250 [==============================] - 0s 748us/step - loss: 0.3388 - accuracy: 0.8604\n",
      "Epoch 51/100\n",
      "250/250 [==============================] - 0s 709us/step - loss: 0.3388 - accuracy: 0.8619\n",
      "Epoch 52/100\n",
      "250/250 [==============================] - 0s 709us/step - loss: 0.3385 - accuracy: 0.8619\n",
      "Epoch 53/100\n",
      "250/250 [==============================] - 0s 681us/step - loss: 0.3381 - accuracy: 0.8619\n",
      "Epoch 54/100\n",
      "250/250 [==============================] - 0s 685us/step - loss: 0.3379 - accuracy: 0.8622\n",
      "Epoch 55/100\n",
      "250/250 [==============================] - 0s 733us/step - loss: 0.3379 - accuracy: 0.8616\n",
      "Epoch 56/100\n",
      "250/250 [==============================] - 0s 699us/step - loss: 0.3373 - accuracy: 0.8618\n",
      "Epoch 57/100\n",
      "250/250 [==============================] - 0s 701us/step - loss: 0.3375 - accuracy: 0.8604\n",
      "Epoch 58/100\n",
      "250/250 [==============================] - 0s 701us/step - loss: 0.3371 - accuracy: 0.8620\n",
      "Epoch 59/100\n",
      "250/250 [==============================] - 0s 717us/step - loss: 0.3371 - accuracy: 0.8625\n",
      "Epoch 60/100\n",
      "250/250 [==============================] - 0s 685us/step - loss: 0.3368 - accuracy: 0.8620\n",
      "Epoch 61/100\n",
      "250/250 [==============================] - 0s 701us/step - loss: 0.3365 - accuracy: 0.8627\n",
      "Epoch 62/100\n",
      "250/250 [==============================] - 0s 697us/step - loss: 0.3366 - accuracy: 0.8614\n",
      "Epoch 63/100\n",
      "250/250 [==============================] - 0s 689us/step - loss: 0.3363 - accuracy: 0.8626\n",
      "Epoch 64/100\n",
      "250/250 [==============================] - 0s 681us/step - loss: 0.3363 - accuracy: 0.8626\n",
      "Epoch 65/100\n",
      "250/250 [==============================] - 0s 713us/step - loss: 0.3360 - accuracy: 0.8627\n",
      "Epoch 66/100\n",
      "250/250 [==============================] - 0s 713us/step - loss: 0.3359 - accuracy: 0.8633\n",
      "Epoch 67/100\n",
      "250/250 [==============================] - 0s 713us/step - loss: 0.3361 - accuracy: 0.8618\n",
      "Epoch 68/100\n",
      "250/250 [==============================] - 0s 781us/step - loss: 0.3356 - accuracy: 0.8639\n",
      "Epoch 69/100\n",
      "250/250 [==============================] - 0s 729us/step - loss: 0.3354 - accuracy: 0.8645\n",
      "Epoch 70/100\n",
      "250/250 [==============================] - 0s 689us/step - loss: 0.3353 - accuracy: 0.8641\n",
      "Epoch 71/100\n",
      "250/250 [==============================] - 0s 697us/step - loss: 0.3351 - accuracy: 0.8630\n",
      "Epoch 72/100\n",
      "250/250 [==============================] - 0s 697us/step - loss: 0.3352 - accuracy: 0.8630\n",
      "Epoch 73/100\n",
      "250/250 [==============================] - 0s 705us/step - loss: 0.3348 - accuracy: 0.8633\n",
      "Epoch 74/100\n",
      "250/250 [==============================] - 0s 701us/step - loss: 0.3349 - accuracy: 0.8637\n",
      "Epoch 75/100\n",
      "250/250 [==============================] - 0s 754us/step - loss: 0.3351 - accuracy: 0.8630\n",
      "Epoch 76/100\n",
      "250/250 [==============================] - 0s 725us/step - loss: 0.3347 - accuracy: 0.8633\n",
      "Epoch 77/100\n",
      "250/250 [==============================] - 0s 709us/step - loss: 0.3345 - accuracy: 0.8634\n",
      "Epoch 78/100\n",
      "250/250 [==============================] - 0s 689us/step - loss: 0.3342 - accuracy: 0.8633\n",
      "Epoch 79/100\n",
      "250/250 [==============================] - 0s 685us/step - loss: 0.3343 - accuracy: 0.8644\n",
      "Epoch 80/100\n",
      "250/250 [==============================] - 0s 693us/step - loss: 0.3338 - accuracy: 0.8639\n",
      "Epoch 81/100\n",
      "250/250 [==============================] - 0s 681us/step - loss: 0.3335 - accuracy: 0.8633\n",
      "Epoch 82/100\n",
      "250/250 [==============================] - 0s 713us/step - loss: 0.3336 - accuracy: 0.8646\n",
      "Epoch 83/100\n",
      "250/250 [==============================] - 0s 700us/step - loss: 0.3334 - accuracy: 0.8641\n",
      "Epoch 84/100\n",
      "250/250 [==============================] - 0s 725us/step - loss: 0.3334 - accuracy: 0.8644\n",
      "Epoch 85/100\n",
      "250/250 [==============================] - 0s 701us/step - loss: 0.3332 - accuracy: 0.8646\n",
      "Epoch 86/100\n",
      "250/250 [==============================] - 0s 705us/step - loss: 0.3332 - accuracy: 0.8643\n",
      "Epoch 87/100\n",
      "250/250 [==============================] - 0s 692us/step - loss: 0.3333 - accuracy: 0.8643\n",
      "Epoch 88/100\n",
      "250/250 [==============================] - 0s 756us/step - loss: 0.3331 - accuracy: 0.8655\n",
      "Epoch 89/100\n",
      "250/250 [==============================] - 0s 777us/step - loss: 0.3329 - accuracy: 0.8637\n",
      "Epoch 90/100\n",
      "250/250 [==============================] - 0s 697us/step - loss: 0.3327 - accuracy: 0.8648\n",
      "Epoch 91/100\n",
      "250/250 [==============================] - 0s 710us/step - loss: 0.3327 - accuracy: 0.8654\n",
      "Epoch 92/100\n",
      "250/250 [==============================] - 0s 681us/step - loss: 0.3326 - accuracy: 0.8651\n",
      "Epoch 93/100\n",
      "250/250 [==============================] - 0s 721us/step - loss: 0.3328 - accuracy: 0.8659\n",
      "Epoch 94/100\n",
      "250/250 [==============================] - 0s 685us/step - loss: 0.3325 - accuracy: 0.8658\n",
      "Epoch 95/100\n",
      "250/250 [==============================] - 0s 713us/step - loss: 0.3322 - accuracy: 0.8659\n",
      "Epoch 96/100\n",
      "250/250 [==============================] - 0s 737us/step - loss: 0.3324 - accuracy: 0.8655\n",
      "Epoch 97/100\n",
      "250/250 [==============================] - 0s 765us/step - loss: 0.3324 - accuracy: 0.8670\n",
      "Epoch 98/100\n",
      "250/250 [==============================] - 0s 701us/step - loss: 0.3322 - accuracy: 0.8656\n",
      "Epoch 99/100\n",
      "250/250 [==============================] - 0s 693us/step - loss: 0.3319 - accuracy: 0.8668\n",
      "Epoch 100/100\n",
      "250/250 [==============================] - 0s 721us/step - loss: 0.3316 - accuracy: 0.8664\n"
     ]
    },
    {
     "data": {
      "text/plain": [
       "<keras.callbacks.History at 0x1c565f770d0>"
      ]
     },
     "execution_count": 39,
     "metadata": {},
     "output_type": "execute_result"
    }
   ],
   "source": [
    "ann.fit(x_train, y_train,batch_size = 32 , epochs = 100)"
   ]
  },
  {
   "cell_type": "markdown",
   "metadata": {},
   "source": [
    "Making the prediction and evaluating the model"
   ]
  },
  {
   "cell_type": "code",
   "execution_count": 40,
   "metadata": {},
   "outputs": [
    {
     "name": "stdout",
     "output_type": "stream",
     "text": [
      "63/63 [==============================] - 2s 546us/step\n",
      "[[0 0]\n",
      " [0 1]\n",
      " [0 0]\n",
      " ...\n",
      " [0 0]\n",
      " [0 0]\n",
      " [0 0]]\n"
     ]
    }
   ],
   "source": [
    "#Predicting the test set results\n",
    "y_pred = ann.predict(x_test)\n",
    "y_pred = (y_pred >0.5)\n",
    "print(np.concatenate((y_pred.reshape(len(y_pred),1),y_test.reshape(len(y_test),1)),1))"
   ]
  },
  {
   "cell_type": "code",
   "execution_count": 41,
   "metadata": {},
   "outputs": [
    {
     "name": "stdout",
     "output_type": "stream",
     "text": [
      "[[1525   70]\n",
      " [ 201  204]]\n"
     ]
    },
    {
     "data": {
      "text/plain": [
       "0.8645"
      ]
     },
     "execution_count": 41,
     "metadata": {},
     "output_type": "execute_result"
    }
   ],
   "source": [
    "#Making the confusion matrix\n",
    "from sklearn.metrics import confusion_matrix, accuracy_score\n",
    "cm = confusion_matrix(y_test, y_pred)\n",
    "print(cm)\n",
    "accuracy_score(y_test, y_pred)"
   ]
  },
  {
   "cell_type": "code",
   "execution_count": 48,
   "metadata": {},
   "outputs": [
    {
     "name": "stdout",
     "output_type": "stream",
     "text": [
      "INFO:tensorflow:Assets written to: ram://7d6e4fe7-053b-4e2e-b8d7-9562a017c748/assets\n"
     ]
    }
   ],
   "source": [
    "import pickle\n",
    "saved_model = pickle.dumps(ann)\n",
    "# Load the pickled model\n",
    "#ann_from_pickle = pickle.loads(saved_model)\n",
    " \n",
    "# Use the loaded pickled model to make predictions\n",
    "#ann_from_pickle.predict(x_test)"
   ]
  },
  {
   "cell_type": "code",
   "execution_count": null,
   "metadata": {},
   "outputs": [],
   "source": []
  }
 ],
 "metadata": {
  "kernelspec": {
   "display_name": "Python 3",
   "language": "python",
   "name": "python3"
  },
  "language_info": {
   "codemirror_mode": {
    "name": "ipython",
    "version": 3
   },
   "file_extension": ".py",
   "mimetype": "text/x-python",
   "name": "python",
   "nbconvert_exporter": "python",
   "pygments_lexer": "ipython3",
   "version": "3.8.5"
  }
 },
 "nbformat": 4,
 "nbformat_minor": 4
}
