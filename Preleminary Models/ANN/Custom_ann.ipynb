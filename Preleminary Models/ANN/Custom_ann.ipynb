{
 "cells": [
  {
   "cell_type": "code",
   "execution_count": 1,
   "metadata": {},
   "outputs": [],
   "source": [
    "import tensorflow as tf\n",
    "import numpy as np\n",
    "import matplotlib.pyplot as plt\n",
    "from tensorflow import keras"
   ]
  },
  {
   "cell_type": "code",
   "execution_count": 2,
   "metadata": {},
   "outputs": [],
   "source": [
    "#Loading the dataset\n",
    "#mnist data set\n",
    "#from keras.datasets import mnist\n",
    "#(x_train, y_train), (x_test, y_test) = mnist.load_data()\n",
    "\n",
    "#CIFAR10 dataset\n",
    "from keras.datasets import cifar10\n",
    "(x_train, y_train), (x_test, y_test) = cifar10.load_data()"
   ]
  },
  {
   "cell_type": "code",
   "execution_count": 3,
   "metadata": {},
   "outputs": [],
   "source": [
    "#Splitting the validation data from the training data\n",
    "from sklearn.model_selection import train_test_split\n",
    "x_train, x_valid, y_train, y_valid = train_test_split(x_train, y_train, test_size = 0.25 , random_state=42)\n",
    "\n",
    "#preprocessing the data\n",
    "x_train = x_train.astype('float32') /255\n",
    "x_valid = x_valid.astype('float32') /255\n",
    "x_test = x_test.astype('float32') /255\n",
    "\n",
    "#reshaping the data to take it as an input to the neural network\n",
    "#mnist\n",
    "#x_train = x_train.reshape(-1,28*28)\n",
    "#x_valid = x_valid.reshape(-1,28*28)\n",
    "#x_test = x_test.reshape(-1,28*28)\n",
    "#cifar10\n",
    "x_train = x_train.reshape(-1,32*32*3)\n",
    "x_valid = x_valid.reshape(-1,32*32*3)\n",
    "x_test = x_test.reshape(-1,32*32*3)\n"
   ]
  },
  {
   "cell_type": "code",
   "execution_count": 4,
   "metadata": {},
   "outputs": [],
   "source": [
    "#Defining custom layer\n",
    "#template 1\n",
    "class Dens(keras.layers.Layer):#this class inherits the Layer class from the layers module of keras\n",
    "    #setting up the constructor\n",
    "    def __init__(self, a_units, a_input_dim):#a simply is there as i m differentitaing them as arguments\n",
    "        super(Dens, self).__init__() #this step will run the super class that is the layer class(dont know its significance yet) \n",
    "        #defining the weights\n",
    "        self.w = self.add_weight(name = 'w',shape = (a_input_dim, a_units),initializer = \"random_normal\",trainable = True)\n",
    "        #defining the bias(one for each unit)\n",
    "        self.b = self.add_weight(name = 'b',shape = (a_units,),initializer = 'zeros',trainable = True)\n",
    "    #defining a method to call this layer that will take inputs and return the wx+b type of thing\n",
    "    def call(self, inputs):\n",
    "        return tf.matmul(inputs, self.w) + self.b\n",
    "    \n",
    "#template 2\n",
    "class simpledense(keras.layers.Layer):\n",
    "    def __init__(self, a_units):\n",
    "        super(simpledense, self).__init__()\n",
    "        self.units = a_units\n",
    "    \n",
    "    def build(self, input_shape):\n",
    "        self.w = self.add_weight( name = 'w',\n",
    "            shape = (input_shape[-1], self.units),initializer = \"random_normal\",trainable = True)\n",
    "        self.b = self.add_weight(name = 'b',shape = (self.units,),initializer = \"random_normal\",trainable = True)\n",
    "    def call(self, inputs):\n",
    "        return tf.matmul(inputs, self.w) + self.b\n",
    "#defining a class for relu function\n",
    "class MyRelu(keras.layers.Layer):\n",
    "    def __init__(self):\n",
    "        super(MyRelu, self).__init__()\n",
    "\n",
    "    def call(self , x):\n",
    "        return tf.math.maximum(x, 0)\n",
    "\n",
    "#defining the custom model class\n",
    "class MyModel(keras.Model):\n",
    "\n",
    "    #defining and initializing the layers\n",
    "    def __init__(self,num_classes):#num_classes = 10 for mnist(0-9)\n",
    "        super(MyModel, self).__init__()\n",
    "        self.dense1 = Dens(64, 784)\n",
    "        self.dense2 = Dens(32,64)\n",
    "    def call(self, input_tensor):\n",
    "        x = tf.nn.relu(self.dense1(input_tensor))\n",
    "        return self.dense2(x)\n",
    "\n",
    "#defining model2\n",
    "class MyModel2(keras.Model):\n",
    "\n",
    "    #defining and initializing the layers\n",
    "    def __init__(self,num_classes):#num_classes = 10 for mnist(0-9)\n",
    "        super(MyModel2, self).__init__()\n",
    "        self.dense1 = simpledense(64)\n",
    "        self.dense2 = simpledense(32)\n",
    "        self.dense3 = simpledense(16)\n",
    "        self.output_final = simpledense(num_classes)\n",
    "        self.relu = MyRelu()\n",
    "    def call(self, input_tensor):\n",
    "        x = self.relu(self.dense1(input_tensor))#connects input tensor with the first hidden layer and the applies the relu activation function\n",
    "        x = self.relu(self.dense2(x)) #connects 1st hidden layer to second layer and performs relu\n",
    "        x = self.relu(self.dense3(x)) #connects 2nd to 3rd hidden layer and perfomrs relu\n",
    "        return keras.activations.softmax(self.output_final(x),axis=-1)\n",
    "\n"
   ]
  },
  {
   "cell_type": "code",
   "execution_count": 5,
   "metadata": {},
   "outputs": [],
   "source": [
    "#Compiling the model\n",
    "num_classes = 10\n",
    "model = MyModel2(num_classes)\n",
    "model.compile(\n",
    "    loss = keras.losses.SparseCategoricalCrossentropy(from_logits=False),\n",
    "    optimizer = keras.optimizers.Adam(),metrics = [\"accuracy\"]\n",
    ")\n",
    "#model.build(input_shape=[32*32*3,1])\n",
    "#model.summary()\n"
   ]
  },
  {
   "cell_type": "code",
   "execution_count": 6,
   "metadata": {},
   "outputs": [
    {
     "name": "stdout",
     "output_type": "stream",
     "text": [
      "Epoch 1/10\n",
      "1172/1172 [==============================] - 5s 4ms/step - loss: 1.9779 - accuracy: 0.2630 - val_loss: 1.8600 - val_accuracy: 0.3122\n",
      "Epoch 2/10\n",
      "1172/1172 [==============================] - 4s 4ms/step - loss: 1.8123 - accuracy: 0.3437 - val_loss: 1.7545 - val_accuracy: 0.3654\n",
      "Epoch 3/10\n",
      "1172/1172 [==============================] - 5s 4ms/step - loss: 1.7343 - accuracy: 0.3727 - val_loss: 1.7108 - val_accuracy: 0.3791\n",
      "Epoch 4/10\n",
      "1172/1172 [==============================] - 3s 3ms/step - loss: 1.6879 - accuracy: 0.3895 - val_loss: 1.6830 - val_accuracy: 0.3936\n",
      "Epoch 5/10\n",
      "1172/1172 [==============================] - 3s 3ms/step - loss: 1.6485 - accuracy: 0.4054 - val_loss: 1.6291 - val_accuracy: 0.4061\n",
      "Epoch 6/10\n",
      "1172/1172 [==============================] - 3s 3ms/step - loss: 1.6156 - accuracy: 0.4170 - val_loss: 1.6049 - val_accuracy: 0.4153\n",
      "Epoch 7/10\n",
      "1172/1172 [==============================] - 3s 3ms/step - loss: 1.5862 - accuracy: 0.4277 - val_loss: 1.5763 - val_accuracy: 0.4282\n",
      "Epoch 8/10\n",
      "1172/1172 [==============================] - 3s 3ms/step - loss: 1.5590 - accuracy: 0.4405 - val_loss: 1.5658 - val_accuracy: 0.4303\n",
      "Epoch 9/10\n",
      "1172/1172 [==============================] - 3s 3ms/step - loss: 1.5420 - accuracy: 0.4452 - val_loss: 1.5351 - val_accuracy: 0.4426\n",
      "Epoch 10/10\n",
      "1172/1172 [==============================] - 3s 3ms/step - loss: 1.5211 - accuracy: 0.4526 - val_loss: 1.5597 - val_accuracy: 0.4350\n"
     ]
    }
   ],
   "source": [
    "#Evaluating and fitting the model\n",
    "history = model.fit(x_train, y_train, batch_size=32, epochs=10, verbose=1, validation_data=(x_valid, y_valid ))\n",
    "#score = model.evaluate(x_test, y_test, verbose = 0) \n",
    "\n",
    "#print('Test loss:', score[0]) \n",
    "#print('Test accuracy:', score[1])\n",
    "\n",
    "#model.summary()"
   ]
  },
  {
   "cell_type": "code",
   "execution_count": 7,
   "metadata": {},
   "outputs": [
    {
     "data": {
      "image/png": "[encoded data removed]",
      "text/plain": [
       "<Figure size 432x288 with 1 Axes>"
      ]
     },
     "metadata": {
      "needs_background": "light"
     },
     "output_type": "display_data"
    },
    {
     "data": {
      "image/png": "[encoded data removed]",
      "text/plain": [
       "<Figure size 432x288 with 1 Axes>"
      ]
     },
     "metadata": {
      "needs_background": "light"
     },
     "output_type": "display_data"
    }
   ],
   "source": [
    "#plotting the training and validation accuracy and loss at each epoch\n",
    "loss = history.history['loss']\n",
    "val_loss = history.history['val_loss']\n",
    "epochs = range(1,len(loss) + 1)\n",
    "plt.plot(epochs, loss, 'y', label = 'training loss')\n",
    "plt.plot(epochs, val_loss, 'r', label = 'Validation loss')\n",
    "plt.title('Training and Validation Loss')\n",
    "plt.xlabel('Epochs')\n",
    "plt.ylabel('Loss')\n",
    "plt.legend()\n",
    "plt.show()\n",
    "\n",
    "acc = history.history['accuracy']\n",
    "val_acc = history.history['val_accuracy']\n",
    "plt.plot(epochs, acc, 'y', label = 'training acc')\n",
    "plt.plot(epochs, val_acc, 'r', label = 'Validation loss')\n",
    "plt.title('Training and Validation Accuracy')\n",
    "plt.xlabel('Epochs')\n",
    "plt.ylabel('Accuracy')\n",
    "plt.legend()\n",
    "plt.show()"
   ]
  },
  {
   "cell_type": "code",
   "execution_count": 8,
   "metadata": {},
   "outputs": [
    {
     "name": "stdout",
     "output_type": "stream",
     "text": [
      "313/313 [==============================] - 1s 2ms/step\n",
      "[[854  20   1   1   5   0   3   7  87  22]\n",
      " [438 431   0   1   2   1   5   4  37  81]\n",
      " [828   9   7  10  95   6  13  18   6   8]\n",
      " [862   6   0  41  20  13  15  10  17  16]\n",
      " [715   5   0   0 233   0  11  22   8   6]\n",
      " [798   5   0  29  30  82   8  26  19   3]\n",
      " [749   4   0  11  71   0 154   3   5   3]\n",
      " [588  10   1   4  64   9   3 273   5  43]\n",
      " [444  32   0   3   5   1   0   4 483  28]\n",
      " [464 127   0   0   1   1   5   9  28 365]]\n"
     ]
    }
   ],
   "source": [
    "#predicting the test set results\n",
    "y_pred = model.predict(x_test)\n",
    "final_pred = np.zeros(10000)\n",
    "for i in range(0,y_pred.shape[0]):\n",
    "    for j in range(0,num_classes):\n",
    "        if(y_pred[i][j]>=0.5):\n",
    "           final_pred[i] = j\n",
    "\n",
    "#Making the confusion Matrix\n",
    "from sklearn.metrics import  confusion_matrix\n",
    "cm = confusion_matrix(y_test, final_pred)\n",
    "print(cm)"
   ]
  },
  {
   "cell_type": "code",
   "execution_count": 9,
   "metadata": {},
   "outputs": [
    {
     "name": "stdout",
     "output_type": "stream",
     "text": [
      "Model: \"my_model2\"\n",
      "_________________________________________________________________\n",
      " Layer (type)                Output Shape              Param #   \n",
      "=================================================================\n",
      " simpledense (simpledense)   multiple                  196672    \n",
      "                                                                 \n",
      " simpledense_1 (simpledense)  multiple                 2080      \n",
      "                                                                 \n",
      " simpledense_2 (simpledense)  multiple                 528       \n",
      "                                                                 \n",
      " simpledense_3 (simpledense)  multiple                 170       \n",
      "                                                                 \n",
      " my_relu (MyRelu)            multiple                  0         \n",
      "                                                                 \n",
      "=================================================================\n",
      "Total params: 199,450\n",
      "Trainable params: 199,450\n",
      "Non-trainable params: 0\n",
      "_________________________________________________________________\n"
     ]
    }
   ],
   "source": [
    "model.summary()"
   ]
  },
  {
   "cell_type": "code",
   "execution_count": null,
   "metadata": {},
   "outputs": [],
   "source": []
  }
 ],
 "metadata": {
  "kernelspec": {
   "display_name": "Python 3",
   "language": "python",
   "name": "python3"
  },
  "language_info": {
   "codemirror_mode": {
    "name": "ipython",
    "version": 3
   },
   "file_extension": ".py",
   "mimetype": "text/x-python",
   "name": "python",
   "nbconvert_exporter": "python",
   "pygments_lexer": "ipython3",
   "version": "3.8.5"
  },
  "vscode": {
   "interpreter": {
    "hash": "6f5583cf1d9466b5c27e75c89cc6b383bed5736d6b16c51c8074d8690011a952"
   }
  }
 },
 "nbformat": 4,
 "nbformat_minor": 4
}
