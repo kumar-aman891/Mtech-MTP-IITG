{
  "cells": [
    {
      "cell_type": "markdown",
      "metadata": {
        "id": "A3appgMXMtkh"
      },
      "source": [
        "Importing the libraries"
      ]
    },
    {
      "cell_type": "raw",
      "metadata": {
        "id": "C_NSuVD-Mtko"
      },
      "source": [
        "Part 1 : Data Preprocessing"
      ]
    },
    {
      "cell_type": "code",
      "execution_count": 302,
      "metadata": {
        "id": "gRfvIBFjMtkp"
      },
      "outputs": [],
      "source": [
        "import numpy as np\n",
        "import pandas as pd\n",
        "import tensorflow as tf\n",
        "import matplotlib.pyplot as plt\n",
        "from matplotlib import image"
      ]
    },
    {
      "cell_type": "code",
      "execution_count": 303,
      "metadata": {
        "colab": {
          "base_uri": "https://localhost:8080/"
        },
        "id": "vAJ4WYAssrvW",
        "outputId": "8002edfe-22c5-4027-c4cd-109402f9b804"
      },
      "outputs": [
        {
          "name": "stdout",
          "output_type": "stream",
          "text": [
            "replace Excel_data/Top_setting.xlsx? [y]es, [n]o, [A]ll, [N]one, [r]ename: "
          ]
        }
      ],
      "source": [
        "#first we need to extract the zip data present in our drive\n",
        "!unzip drive/MyDrive/DataPre.zip > /dev/null"
      ]
    },
    {
      "cell_type": "code",
      "execution_count": 304,
      "metadata": {
        "colab": {
          "base_uri": "https://localhost:8080/"
        },
        "id": "IOlYjlSRNI6_",
        "outputId": "1d3ed80e-71f4-42bd-f05a-59631be85452"
      },
      "outputs": [
        {
          "name": "stdout",
          "output_type": "stream",
          "text": [
            "['28', '36', '31', '50', '5', '96', '117', '77', '46', '48', '21', '62', '13', '110', '51', '100', '81', '23', '93', '16', '45', '1', '26', '66', '20', '82', '118', '106', '29', '80', '39', '75', '30', '64', '108', '92', '41', '3', '37', '84', '85', '42', '19', '4', '61', '89', '107', '73', '33', '78', '44', '116', '111', '105', '52', '6', '98', '99', '67', '65', '113', '69', '114', '38', '63', '11', '57', '90', '55', '104', '91', '97', '88', '40', '72', '9', '95', '119', '74', '43', '15', '49', '87', '7', '86', '70', '102', '101', '22', '2', '35', '27', '60', '8', '47', '112', '76', '32', '115', '56', '18', '71', '79', '34', '59', '12', '54', '109', '94', '17', '120', '14', '10', '103', '58', '68', '25', '53', '24', '83']\n"
          ]
        }
      ],
      "source": [
        "#loading images\n",
        "import PIL\n",
        "from PIL import Image\n",
        "import glob\n",
        "image_list = [] # will contain all the images in the rspective location\n",
        "name = [] # will contain the name of respective images so that respective topology setting could be fetched from excel\n",
        "for filename in glob.glob('/content/img/*.png'): #assuming gif\n",
        "    im=Image.open(filename)\n",
        "    name.append(filename)\n",
        "    image_list.append(im)\n",
        "\n",
        "numerics = []\n",
        "for i in range(len(name)):\n",
        "  a_string = name[i]\n",
        "  numeric_filter = filter(str.isdigit, a_string)\n",
        "  numeric_string = \"\".join(numeric_filter)\n",
        "  numerics.append(numeric_string)\n",
        "\n",
        "print(numerics)"
      ]
    },
    {
      "cell_type": "code",
      "execution_count": 305,
      "metadata": {
        "colab": {
          "base_uri": "https://localhost:8080/"
        },
        "id": "9nVk_CPcvp5M",
        "outputId": "57591e94-40d1-4f4b-dc58-d976750ce6cc"
      },
      "outputs": [
        {
          "data": {
            "text/plain": [
              "120"
            ]
          },
          "execution_count": 305,
          "metadata": {},
          "output_type": "execute_result"
        }
      ],
      "source": [
        "len(image_list)"
      ]
    },
    {
      "cell_type": "code",
      "execution_count": 306,
      "metadata": {
        "id": "hgqbI7hnudYS"
      },
      "outputs": [],
      "source": [
        "#both image_list and numerics have 120 elements but their indexing starts from 0 hence last element is at index 119\n",
        "#now lets convert our image_list array to a numpy array\n",
        "\n",
        "\n",
        "# # example of converting an image with the Keras API\n",
        "from keras.preprocessing.image import load_img\n",
        "from keras.preprocessing.image import img_to_array\n",
        "from keras.preprocessing.image import array_to_img\n",
        "\n",
        "#the following loop will convert each elements (each images) to a numpy array  and resizing \n",
        "for i in range(len(image_list)):\n",
        "  image_list[i] = img_to_array(image_list[i])\n",
        "  # image_list[i]=np.resize(image_list[i],(800,800,3))\n",
        "  \n",
        "#follwoing line will convert the list to a numpy array with 120 elements and each element in respective size RGB\n",
        "imgArr = np.array(image_list)\n",
        "\n",
        "# for i in range(len(image_list)):\n",
        "#   imgNpArr[i] = [img_to_array(image_list[i])]\n",
        "\n",
        "\n",
        "# print(\"type:\",img_array.dtype)\n",
        "# print(\"shape:\",img_array.shape)\n",
        "# # convert back to image\n",
        "\n",
        "# img_pil = array_to_img(img_array)\n",
        "# print(\"converting NumPy array:\",type(img_pil))"
      ]
    },
    {
      "cell_type": "code",
      "execution_count": 307,
      "metadata": {
        "colab": {
          "base_uri": "https://localhost:8080/"
        },
        "id": "yRcHOAZMD70E",
        "outputId": "e2bc93b3-2df4-491b-d676-f45657a6a694"
      },
      "outputs": [
        {
          "data": {
            "text/plain": [
              "(656, 875, 3)"
            ]
          },
          "execution_count": 307,
          "metadata": {},
          "output_type": "execute_result"
        }
      ],
      "source": [
        "image_list[0].shape"
      ]
    },
    {
      "cell_type": "code",
      "execution_count": 308,
      "metadata": {
        "colab": {
          "base_uri": "https://localhost:8080/",
          "height": 304
        },
        "id": "o4EUKyo5ILWu",
        "outputId": "102d8183-2009-429f-eaf6-a39d7c4478d5"
      },
      "outputs": [
        {
          "name": "stderr",
          "output_type": "stream",
          "text": [
            "WARNING:matplotlib.image:Clipping input data to the valid range for imshow with RGB data ([0..1] for floats or [0..255] for integers).\n"
          ]
        },
        {
          "data": {
            "text/plain": [
              "<matplotlib.image.AxesImage at 0x7ff5a7b38d50>"
            ]
          },
          "execution_count": 308,
          "metadata": {},
          "output_type": "execute_result"
        },
        {
          "data": {
            "image/png": "[encoded data removed]",
            "text/plain": [
              "<Figure size 432x288 with 1 Axes>"
            ]
          },
          "metadata": {
            "needs_background": "light"
          },
          "output_type": "display_data"
        }
      ],
      "source": [
        "plt.imshow(image_list[2])"
      ]
    },
    {
      "cell_type": "code",
      "execution_count": 309,
      "metadata": {
        "colab": {
          "base_uri": "https://localhost:8080/"
        },
        "id": "I1cMjUz9wt8e",
        "outputId": "264c5bee-3345-4799-9ee4-38a51fe59370"
      },
      "outputs": [
        {
          "name": "stdout",
          "output_type": "stream",
          "text": [
            "     Volfrac  Fy  Fx  Images\n",
            "0        0.4  10  10       1\n",
            "1        0.4   9   9       2\n",
            "2        0.4   8   8       3\n",
            "3        0.4   7   7       4\n",
            "4        0.4   6   6       5\n",
            "..       ...  ..  ..     ...\n",
            "115      0.6   5 -15     116\n",
            "116      0.6   4 -12     117\n",
            "117      0.6   3  -9     118\n",
            "118      0.6   2  -6     119\n",
            "119      0.6   1  -3     120\n",
            "\n",
            "[120 rows x 4 columns]\n"
          ]
        }
      ],
      "source": [
        "#now lets bring in the excel data file\n",
        "dataset = pd.read_excel('/content/Excel_data/Top_setting.xlsx')\n",
        "print(dataset)"
      ]
    },
    {
      "cell_type": "code",
      "execution_count": 310,
      "metadata": {
        "id": "P8upW2VM0TSz"
      },
      "outputs": [],
      "source": [
        "#making of dependent and independent variables\n",
        "x = dataset.iloc[:,:].values\n",
        "xx = []\n",
        "for i in range(0,len(numerics)):\n",
        "  xx.append(x[int(numerics[i])-1])\n",
        "x = xx #This will make elements of x in sync with the image array."
      ]
    },
    {
      "cell_type": "code",
      "execution_count": 312,
      "metadata": {
        "colab": {
          "base_uri": "https://localhost:8080/"
        },
        "id": "z53nKGcS473c",
        "outputId": "258db709-60ed-4564-93d1-a7b716275978"
      },
      "outputs": [
        {
          "name": "stdout",
          "output_type": "stream",
          "text": [
            "<class 'numpy.ndarray'>\n",
            "<class 'numpy.ndarray'>\n"
          ]
        }
      ],
      "source": [
        " x = np.array(x)\n",
        " print(type(x))\n",
        " print(type(imgArr))\n",
        " #Now we have our input array and output array\n",
        " "
      ]
    },
    {
      "cell_type": "code",
      "execution_count": 313,
      "metadata": {
        "colab": {
          "base_uri": "https://localhost:8080/"
        },
        "id": "8Z4leFUlCJpg",
        "outputId": "f4edb64c-b2fa-4a7e-a9e5-65527d6f46d8"
      },
      "outputs": [
        {
          "data": {
            "text/plain": [
              "(120, 656, 875, 3)"
            ]
          },
          "execution_count": 313,
          "metadata": {},
          "output_type": "execute_result"
        }
      ],
      "source": [
        "imgArr.shape\n"
      ]
    },
    {
      "cell_type": "code",
      "execution_count": 314,
      "metadata": {
        "colab": {
          "base_uri": "https://localhost:8080/"
        },
        "id": "0cyRJv2pE_Nu",
        "outputId": "0f3e6277-8c02-4b4e-f37d-7848f6be107b"
      },
      "outputs": [
        {
          "data": {
            "text/plain": [
              "(120, 1722000)"
            ]
          },
          "execution_count": 314,
          "metadata": {},
          "output_type": "execute_result"
        }
      ],
      "source": [
        "#Flattening the each image in imgArr so that each element will be a single column of nodes = 656*875*3\n",
        "# flat_gfg = gfg.flatten()\n",
        "#making a yArr which has dimension as (120,656*875*3) and then equating each element of it to the flattened image in next loop\n",
        "yArr = imgArr\n",
        "yArr = np.ndarray.reshape(yArr,(-1,656*875*3))\n",
        "\n",
        "for i in range(imgArr.shape[0]):\n",
        "  yArr[i] = imgArr[i].flatten()\n",
        "yArr.shape"
      ]
    },
    {
      "cell_type": "code",
      "execution_count": 349,
      "metadata": {
        "id": "3LrnI0pqFsIQ"
      },
      "outputs": [],
      "source": [
        "#eliminating the 4th column in the x as now the input and output values are in sync so we dont require serial number.\n",
        "x_final = []\n",
        "# \n",
        "\n",
        "for i in range(x.shape[0]):\n",
        "  x_final.append([x[i][0],x[i][1],x[i][2]])\n",
        "x_final = np.array(x_final) \n",
        "\n",
        "#Now making the train test split\n",
        "from sklearn.model_selection import train_test_split as tts\n",
        "x_train , x_test , y_train , y_test = tts(x_final, yArr, test_size = 0.2, random_state = 0)\n"
      ]
    },
    {
      "cell_type": "code",
      "execution_count": 351,
      "metadata": {
        "colab": {
          "base_uri": "https://localhost:8080/"
        },
        "id": "hmO4aPDpMSC5",
        "outputId": "39f275bb-c833-4f7e-b85c-9a43cb2b95e9"
      },
      "outputs": [
        {
          "name": "stdout",
          "output_type": "stream",
          "text": [
            "(96, 3)\n",
            "(24, 3)\n",
            "(96, 1722000)\n",
            "(24, 1722000)\n"
          ]
        }
      ],
      "source": [
        "print(x_train.shape)\n",
        "print(x_test.shape)\n",
        "print(y_train.shape)\n",
        "print(y_test.shape)"
      ]
    },
    {
      "cell_type": "code",
      "execution_count": 26,
      "metadata": {
        "colab": {
          "base_uri": "https://localhost:8080/"
        },
        "id": "BncQmqFhM0y2",
        "outputId": "a637cfc1-71a1-4dcd-ca93-e7e3760baa78"
      },
      "outputs": [
        {
          "name": "stdout",
          "output_type": "stream",
          "text": [
            "Drive already mounted at /content/drive; to attempt to forcibly remount, call drive.mount(\"/content/drive\", force_remount=True).\n"
          ]
        }
      ],
      "source": [
        "from google.colab import drive\n",
        "drive.mount('/content/drive')"
      ]
    },
    {
      "cell_type": "markdown",
      "metadata": {
        "id": "RKfmDRlrMtkx"
      },
      "source": [
        "Feature Scaling"
      ]
    },
    {
      "cell_type": "code",
      "execution_count": 352,
      "metadata": {
        "id": "_d3zccUvMtkx"
      },
      "outputs": [],
      "source": [
        "from sklearn.preprocessing import StandardScaler\n",
        "sc = StandardScaler()\n",
        "x_train = sc.fit_transform(x_train)\n",
        "x_test = sc.transform(x_test)"
      ]
    },
    {
      "cell_type": "markdown",
      "metadata": {
        "id": "I1gVfE_MMtky"
      },
      "source": [
        "Part 2 : Building ANN"
      ]
    },
    {
      "cell_type": "code",
      "execution_count": 362,
      "metadata": {
        "id": "4usjmzfkMtky"
      },
      "outputs": [],
      "source": [
        "#Initializing ANN\n",
        "ann = tf.keras.models.Sequential()\n",
        "\n",
        "#adding the input layer and the first hidden layer\n",
        "ann.add(tf.keras.layers.Dense(units =6 , activation = 'relu',input_shape = (3,)))\n",
        "\n",
        "#adding the second hidden layer\n",
        "ann.add(tf.keras.layers.Dense(units =6 , activation = 'relu'))\n",
        "\n",
        "#adding the output layer\n",
        "ann.add(tf.keras.layers.Dense(units =1722000 , activation = 'softmax'))"
      ]
    },
    {
      "cell_type": "markdown",
      "metadata": {
        "id": "KxGX3MpdMtky"
      },
      "source": [
        "Part 3 : Training The ANN"
      ]
    },
    {
      "cell_type": "code",
      "execution_count": 363,
      "metadata": {
        "id": "sJiPM4FoMtkz"
      },
      "outputs": [],
      "source": [
        "ann.compile(optimizer = 'adam' , loss = 'categorical_crossentropy', metrics=['accuracy'])"
      ]
    },
    {
      "cell_type": "markdown",
      "metadata": {
        "id": "CV3xlDRWMtkz"
      },
      "source": [
        "Training the ANN on the training set"
      ]
    },
    {
      "cell_type": "code",
      "execution_count": 364,
      "metadata": {
        "colab": {
          "base_uri": "https://localhost:8080/"
        },
        "id": "Xhvd1FFFMtkz",
        "outputId": "66b3a0fe-56cc-4032-ef2c-7dda8261d60e"
      },
      "outputs": [
        {
          "name": "stdout",
          "output_type": "stream",
          "text": [
            "(96, 3)\n",
            "Model: \"sequential_3\"\n",
            "_________________________________________________________________\n",
            " Layer (type)                Output Shape              Param #   \n",
            "=================================================================\n",
            " dense_9 (Dense)             (None, 6)                 24        \n",
            "                                                                 \n",
            " dense_10 (Dense)            (None, 6)                 42        \n",
            "                                                                 \n",
            " dense_11 (Dense)            (None, 1722000)           12054000  \n",
            "                                                                 \n",
            "=================================================================\n",
            "Total params: 12,054,066\n",
            "Trainable params: 12,054,066\n",
            "Non-trainable params: 0\n",
            "_________________________________________________________________\n"
          ]
        }
      ],
      "source": [
        "print(x_train.shape)\n",
        "ann.summary()"
      ]
    },
    {
      "cell_type": "code",
      "execution_count": 365,
      "metadata": {
        "colab": {
          "base_uri": "https://localhost:8080/",
          "height": 831
        },
        "id": "7ujNencVMtkz",
        "outputId": "982e458a-637c-4382-9629-e5f2d515731b"
      },
      "outputs": [
        {
          "name": "stdout",
          "output_type": "stream",
          "text": [
            "Epoch 1/100\n",
            "3/3 [==============================] - 5s 1s/step - loss: 5470178304.0000 - accuracy: 0.0000e+00\n",
            "Epoch 2/100\n",
            "3/3 [==============================] - 3s 1s/step - loss: 5470084096.0000 - accuracy: 0.0000e+00\n",
            "Epoch 3/100\n",
            "3/3 [==============================] - 3s 925ms/step - loss: 5469985280.0000 - accuracy: 0.0000e+00\n",
            "Epoch 4/100\n",
            "3/3 [==============================] - 3s 918ms/step - loss: 5469882368.0000 - accuracy: 0.0000e+00\n",
            "Epoch 5/100\n",
            "3/3 [==============================] - 3s 1s/step - loss: 5469772800.0000 - accuracy: 0.0000e+00\n",
            "Epoch 6/100\n",
            "3/3 [==============================] - 3s 1s/step - loss: 5469660160.0000 - accuracy: 0.0000e+00\n",
            "Epoch 7/100\n",
            "3/3 [==============================] - 3s 940ms/step - loss: 5469541376.0000 - accuracy: 0.0000e+00\n",
            "Epoch 8/100\n",
            "3/3 [==============================] - 3s 1s/step - loss: 5469414912.0000 - accuracy: 0.0000e+00\n",
            "Epoch 9/100\n",
            "3/3 [==============================] - 3s 1s/step - loss: 5469287936.0000 - accuracy: 0.0000e+00\n",
            "Epoch 10/100\n",
            "3/3 [==============================] - 3s 1s/step - loss: 5469149184.0000 - accuracy: 0.0000e+00\n",
            "Epoch 11/100\n",
            "3/3 [==============================] - 3s 997ms/step - loss: 5469007360.0000 - accuracy: 0.0000e+00\n",
            "Epoch 12/100\n",
            "3/3 [==============================] - 3s 931ms/step - loss: 5468856320.0000 - accuracy: 0.0000e+00\n",
            "Epoch 13/100\n",
            "3/3 [==============================] - 3s 949ms/step - loss: 5468704256.0000 - accuracy: 0.0000e+00\n",
            "Epoch 14/100\n",
            "3/3 [==============================] - 3s 916ms/step - loss: 5468546560.0000 - accuracy: 0.0000e+00\n",
            "Epoch 15/100\n",
            "2/3 [===================>..........] - ETA: 1s - loss: 5478981632.0000 - accuracy: 0.0000e+00"
          ]
        },
        {
          "ename": "KeyboardInterrupt",
          "evalue": "ignored",
          "output_type": "error",
          "traceback": [
            "\u001b[0;31m---------------------------------------------------------------------------\u001b[0m",
            "\u001b[0;31mKeyboardInterrupt\u001b[0m                         Traceback (most recent call last)",
            "\u001b[0;32m<ipython-input-365-ebb1681a92ab>\u001b[0m in \u001b[0;36m<module>\u001b[0;34m\u001b[0m\n\u001b[0;32m----> 1\u001b[0;31m \u001b[0mann\u001b[0m\u001b[0;34m.\u001b[0m\u001b[0mfit\u001b[0m\u001b[0;34m(\u001b[0m\u001b[0mx_train\u001b[0m\u001b[0;34m,\u001b[0m \u001b[0my_train\u001b[0m\u001b[0;34m,\u001b[0m\u001b[0mbatch_size\u001b[0m \u001b[0;34m=\u001b[0m \u001b[0;36m32\u001b[0m \u001b[0;34m,\u001b[0m \u001b[0mepochs\u001b[0m \u001b[0;34m=\u001b[0m \u001b[0;36m100\u001b[0m\u001b[0;34m)\u001b[0m\u001b[0;34m\u001b[0m\u001b[0;34m\u001b[0m\u001b[0m\n\u001b[0m",
            "\u001b[0;32m/usr/local/lib/python3.7/dist-packages/keras/utils/traceback_utils.py\u001b[0m in \u001b[0;36merror_handler\u001b[0;34m(*args, **kwargs)\u001b[0m\n\u001b[1;32m     62\u001b[0m     \u001b[0mfiltered_tb\u001b[0m \u001b[0;34m=\u001b[0m \u001b[0;32mNone\u001b[0m\u001b[0;34m\u001b[0m\u001b[0;34m\u001b[0m\u001b[0m\n\u001b[1;32m     63\u001b[0m     \u001b[0;32mtry\u001b[0m\u001b[0;34m:\u001b[0m\u001b[0;34m\u001b[0m\u001b[0;34m\u001b[0m\u001b[0m\n\u001b[0;32m---> 64\u001b[0;31m       \u001b[0;32mreturn\u001b[0m \u001b[0mfn\u001b[0m\u001b[0;34m(\u001b[0m\u001b[0;34m*\u001b[0m\u001b[0margs\u001b[0m\u001b[0;34m,\u001b[0m \u001b[0;34m**\u001b[0m\u001b[0mkwargs\u001b[0m\u001b[0;34m)\u001b[0m\u001b[0;34m\u001b[0m\u001b[0;34m\u001b[0m\u001b[0m\n\u001b[0m\u001b[1;32m     65\u001b[0m     \u001b[0;32mexcept\u001b[0m \u001b[0mException\u001b[0m \u001b[0;32mas\u001b[0m \u001b[0me\u001b[0m\u001b[0;34m:\u001b[0m  \u001b[0;31m# pylint: disable=broad-except\u001b[0m\u001b[0;34m\u001b[0m\u001b[0;34m\u001b[0m\u001b[0m\n\u001b[1;32m     66\u001b[0m       \u001b[0mfiltered_tb\u001b[0m \u001b[0;34m=\u001b[0m \u001b[0m_process_traceback_frames\u001b[0m\u001b[0;34m(\u001b[0m\u001b[0me\u001b[0m\u001b[0;34m.\u001b[0m\u001b[0m__traceback__\u001b[0m\u001b[0;34m)\u001b[0m\u001b[0;34m\u001b[0m\u001b[0;34m\u001b[0m\u001b[0m\n",
            "\u001b[0;32m/usr/local/lib/python3.7/dist-packages/keras/engine/training.py\u001b[0m in \u001b[0;36mfit\u001b[0;34m(self, x, y, batch_size, epochs, verbose, callbacks, validation_split, validation_data, shuffle, class_weight, sample_weight, initial_epoch, steps_per_epoch, validation_steps, validation_batch_size, validation_freq, max_queue_size, workers, use_multiprocessing)\u001b[0m\n\u001b[1;32m   1382\u001b[0m                 _r=1):\n\u001b[1;32m   1383\u001b[0m               \u001b[0mcallbacks\u001b[0m\u001b[0;34m.\u001b[0m\u001b[0mon_train_batch_begin\u001b[0m\u001b[0;34m(\u001b[0m\u001b[0mstep\u001b[0m\u001b[0;34m)\u001b[0m\u001b[0;34m\u001b[0m\u001b[0;34m\u001b[0m\u001b[0m\n\u001b[0;32m-> 1384\u001b[0;31m               \u001b[0mtmp_logs\u001b[0m \u001b[0;34m=\u001b[0m \u001b[0mself\u001b[0m\u001b[0;34m.\u001b[0m\u001b[0mtrain_function\u001b[0m\u001b[0;34m(\u001b[0m\u001b[0miterator\u001b[0m\u001b[0;34m)\u001b[0m\u001b[0;34m\u001b[0m\u001b[0;34m\u001b[0m\u001b[0m\n\u001b[0m\u001b[1;32m   1385\u001b[0m               \u001b[0;32mif\u001b[0m \u001b[0mdata_handler\u001b[0m\u001b[0;34m.\u001b[0m\u001b[0mshould_sync\u001b[0m\u001b[0;34m:\u001b[0m\u001b[0;34m\u001b[0m\u001b[0;34m\u001b[0m\u001b[0m\n\u001b[1;32m   1386\u001b[0m                 \u001b[0mcontext\u001b[0m\u001b[0;34m.\u001b[0m\u001b[0masync_wait\u001b[0m\u001b[0;34m(\u001b[0m\u001b[0;34m)\u001b[0m\u001b[0;34m\u001b[0m\u001b[0;34m\u001b[0m\u001b[0m\n",
            "\u001b[0;32m/usr/local/lib/python3.7/dist-packages/tensorflow/python/util/traceback_utils.py\u001b[0m in \u001b[0;36merror_handler\u001b[0;34m(*args, **kwargs)\u001b[0m\n\u001b[1;32m    148\u001b[0m     \u001b[0mfiltered_tb\u001b[0m \u001b[0;34m=\u001b[0m \u001b[0;32mNone\u001b[0m\u001b[0;34m\u001b[0m\u001b[0;34m\u001b[0m\u001b[0m\n\u001b[1;32m    149\u001b[0m     \u001b[0;32mtry\u001b[0m\u001b[0;34m:\u001b[0m\u001b[0;34m\u001b[0m\u001b[0;34m\u001b[0m\u001b[0m\n\u001b[0;32m--> 150\u001b[0;31m       \u001b[0;32mreturn\u001b[0m \u001b[0mfn\u001b[0m\u001b[0;34m(\u001b[0m\u001b[0;34m*\u001b[0m\u001b[0margs\u001b[0m\u001b[0;34m,\u001b[0m \u001b[0;34m**\u001b[0m\u001b[0mkwargs\u001b[0m\u001b[0;34m)\u001b[0m\u001b[0;34m\u001b[0m\u001b[0;34m\u001b[0m\u001b[0m\n\u001b[0m\u001b[1;32m    151\u001b[0m     \u001b[0;32mexcept\u001b[0m \u001b[0mException\u001b[0m \u001b[0;32mas\u001b[0m \u001b[0me\u001b[0m\u001b[0;34m:\u001b[0m\u001b[0;34m\u001b[0m\u001b[0;34m\u001b[0m\u001b[0m\n\u001b[1;32m    152\u001b[0m       \u001b[0mfiltered_tb\u001b[0m \u001b[0;34m=\u001b[0m \u001b[0m_process_traceback_frames\u001b[0m\u001b[0;34m(\u001b[0m\u001b[0me\u001b[0m\u001b[0;34m.\u001b[0m\u001b[0m__traceback__\u001b[0m\u001b[0;34m)\u001b[0m\u001b[0;34m\u001b[0m\u001b[0;34m\u001b[0m\u001b[0m\n",
            "\u001b[0;32m/usr/local/lib/python3.7/dist-packages/tensorflow/python/eager/def_function.py\u001b[0m in \u001b[0;36m__call__\u001b[0;34m(self, *args, **kwds)\u001b[0m\n\u001b[1;32m    913\u001b[0m \u001b[0;34m\u001b[0m\u001b[0m\n\u001b[1;32m    914\u001b[0m       \u001b[0;32mwith\u001b[0m \u001b[0mOptionalXlaContext\u001b[0m\u001b[0;34m(\u001b[0m\u001b[0mself\u001b[0m\u001b[0;34m.\u001b[0m\u001b[0m_jit_compile\u001b[0m\u001b[0;34m)\u001b[0m\u001b[0;34m:\u001b[0m\u001b[0;34m\u001b[0m\u001b[0;34m\u001b[0m\u001b[0m\n\u001b[0;32m--> 915\u001b[0;31m         \u001b[0mresult\u001b[0m \u001b[0;34m=\u001b[0m \u001b[0mself\u001b[0m\u001b[0;34m.\u001b[0m\u001b[0m_call\u001b[0m\u001b[0;34m(\u001b[0m\u001b[0;34m*\u001b[0m\u001b[0margs\u001b[0m\u001b[0;34m,\u001b[0m \u001b[0;34m**\u001b[0m\u001b[0mkwds\u001b[0m\u001b[0;34m)\u001b[0m\u001b[0;34m\u001b[0m\u001b[0;34m\u001b[0m\u001b[0m\n\u001b[0m\u001b[1;32m    916\u001b[0m \u001b[0;34m\u001b[0m\u001b[0m\n\u001b[1;32m    917\u001b[0m       \u001b[0mnew_tracing_count\u001b[0m \u001b[0;34m=\u001b[0m \u001b[0mself\u001b[0m\u001b[0;34m.\u001b[0m\u001b[0mexperimental_get_tracing_count\u001b[0m\u001b[0;34m(\u001b[0m\u001b[0;34m)\u001b[0m\u001b[0;34m\u001b[0m\u001b[0;34m\u001b[0m\u001b[0m\n",
            "\u001b[0;32m/usr/local/lib/python3.7/dist-packages/tensorflow/python/eager/def_function.py\u001b[0m in \u001b[0;36m_call\u001b[0;34m(self, *args, **kwds)\u001b[0m\n\u001b[1;32m    945\u001b[0m       \u001b[0;31m# In this case we have created variables on the first call, so we run the\u001b[0m\u001b[0;34m\u001b[0m\u001b[0;34m\u001b[0m\u001b[0;34m\u001b[0m\u001b[0m\n\u001b[1;32m    946\u001b[0m       \u001b[0;31m# defunned version which is guaranteed to never create variables.\u001b[0m\u001b[0;34m\u001b[0m\u001b[0;34m\u001b[0m\u001b[0;34m\u001b[0m\u001b[0m\n\u001b[0;32m--> 947\u001b[0;31m       \u001b[0;32mreturn\u001b[0m \u001b[0mself\u001b[0m\u001b[0;34m.\u001b[0m\u001b[0m_stateless_fn\u001b[0m\u001b[0;34m(\u001b[0m\u001b[0;34m*\u001b[0m\u001b[0margs\u001b[0m\u001b[0;34m,\u001b[0m \u001b[0;34m**\u001b[0m\u001b[0mkwds\u001b[0m\u001b[0;34m)\u001b[0m  \u001b[0;31m# pylint: disable=not-callable\u001b[0m\u001b[0;34m\u001b[0m\u001b[0;34m\u001b[0m\u001b[0m\n\u001b[0m\u001b[1;32m    948\u001b[0m     \u001b[0;32melif\u001b[0m \u001b[0mself\u001b[0m\u001b[0;34m.\u001b[0m\u001b[0m_stateful_fn\u001b[0m \u001b[0;32mis\u001b[0m \u001b[0;32mnot\u001b[0m \u001b[0;32mNone\u001b[0m\u001b[0;34m:\u001b[0m\u001b[0;34m\u001b[0m\u001b[0;34m\u001b[0m\u001b[0m\n\u001b[1;32m    949\u001b[0m       \u001b[0;31m# Release the lock early so that multiple threads can perform the call\u001b[0m\u001b[0;34m\u001b[0m\u001b[0;34m\u001b[0m\u001b[0;34m\u001b[0m\u001b[0m\n",
            "\u001b[0;32m/usr/local/lib/python3.7/dist-packages/tensorflow/python/eager/function.py\u001b[0m in \u001b[0;36m__call__\u001b[0;34m(self, *args, **kwargs)\u001b[0m\n\u001b[1;32m   2955\u001b[0m        filtered_flat_args) = self._maybe_define_function(args, kwargs)\n\u001b[1;32m   2956\u001b[0m     return graph_function._call_flat(\n\u001b[0;32m-> 2957\u001b[0;31m         filtered_flat_args, captured_inputs=graph_function.captured_inputs)  # pylint: disable=protected-access\n\u001b[0m\u001b[1;32m   2958\u001b[0m \u001b[0;34m\u001b[0m\u001b[0m\n\u001b[1;32m   2959\u001b[0m   \u001b[0;34m@\u001b[0m\u001b[0mproperty\u001b[0m\u001b[0;34m\u001b[0m\u001b[0;34m\u001b[0m\u001b[0m\n",
            "\u001b[0;32m/usr/local/lib/python3.7/dist-packages/tensorflow/python/eager/function.py\u001b[0m in \u001b[0;36m_call_flat\u001b[0;34m(self, args, captured_inputs, cancellation_manager)\u001b[0m\n\u001b[1;32m   1852\u001b[0m       \u001b[0;31m# No tape is watching; skip to running the function.\u001b[0m\u001b[0;34m\u001b[0m\u001b[0;34m\u001b[0m\u001b[0;34m\u001b[0m\u001b[0m\n\u001b[1;32m   1853\u001b[0m       return self._build_call_outputs(self._inference_function.call(\n\u001b[0;32m-> 1854\u001b[0;31m           ctx, args, cancellation_manager=cancellation_manager))\n\u001b[0m\u001b[1;32m   1855\u001b[0m     forward_backward = self._select_forward_and_backward_functions(\n\u001b[1;32m   1856\u001b[0m         \u001b[0margs\u001b[0m\u001b[0;34m,\u001b[0m\u001b[0;34m\u001b[0m\u001b[0;34m\u001b[0m\u001b[0m\n",
            "\u001b[0;32m/usr/local/lib/python3.7/dist-packages/tensorflow/python/eager/function.py\u001b[0m in \u001b[0;36mcall\u001b[0;34m(self, ctx, args, cancellation_manager)\u001b[0m\n\u001b[1;32m    502\u001b[0m               \u001b[0minputs\u001b[0m\u001b[0;34m=\u001b[0m\u001b[0margs\u001b[0m\u001b[0;34m,\u001b[0m\u001b[0;34m\u001b[0m\u001b[0;34m\u001b[0m\u001b[0m\n\u001b[1;32m    503\u001b[0m               \u001b[0mattrs\u001b[0m\u001b[0;34m=\u001b[0m\u001b[0mattrs\u001b[0m\u001b[0;34m,\u001b[0m\u001b[0;34m\u001b[0m\u001b[0;34m\u001b[0m\u001b[0m\n\u001b[0;32m--> 504\u001b[0;31m               ctx=ctx)\n\u001b[0m\u001b[1;32m    505\u001b[0m         \u001b[0;32melse\u001b[0m\u001b[0;34m:\u001b[0m\u001b[0;34m\u001b[0m\u001b[0;34m\u001b[0m\u001b[0m\n\u001b[1;32m    506\u001b[0m           outputs = execute.execute_with_cancellation(\n",
            "\u001b[0;32m/usr/local/lib/python3.7/dist-packages/tensorflow/python/eager/execute.py\u001b[0m in \u001b[0;36mquick_execute\u001b[0;34m(op_name, num_outputs, inputs, attrs, ctx, name)\u001b[0m\n\u001b[1;32m     53\u001b[0m     \u001b[0mctx\u001b[0m\u001b[0;34m.\u001b[0m\u001b[0mensure_initialized\u001b[0m\u001b[0;34m(\u001b[0m\u001b[0;34m)\u001b[0m\u001b[0;34m\u001b[0m\u001b[0;34m\u001b[0m\u001b[0m\n\u001b[1;32m     54\u001b[0m     tensors = pywrap_tfe.TFE_Py_Execute(ctx._handle, device_name, op_name,\n\u001b[0;32m---> 55\u001b[0;31m                                         inputs, attrs, num_outputs)\n\u001b[0m\u001b[1;32m     56\u001b[0m   \u001b[0;32mexcept\u001b[0m \u001b[0mcore\u001b[0m\u001b[0;34m.\u001b[0m\u001b[0m_NotOkStatusException\u001b[0m \u001b[0;32mas\u001b[0m \u001b[0me\u001b[0m\u001b[0;34m:\u001b[0m\u001b[0;34m\u001b[0m\u001b[0;34m\u001b[0m\u001b[0m\n\u001b[1;32m     57\u001b[0m     \u001b[0;32mif\u001b[0m \u001b[0mname\u001b[0m \u001b[0;32mis\u001b[0m \u001b[0;32mnot\u001b[0m \u001b[0;32mNone\u001b[0m\u001b[0;34m:\u001b[0m\u001b[0;34m\u001b[0m\u001b[0;34m\u001b[0m\u001b[0m\n",
            "\u001b[0;31mKeyboardInterrupt\u001b[0m: "
          ]
        }
      ],
      "source": [
        "ann.fit(x_train, y_train,batch_size = 32 , epochs = 100)"
      ]
    },
    {
      "cell_type": "markdown",
      "metadata": {
        "id": "7jJlPrApMtk0"
      },
      "source": [
        "Making the prediction and evaluating the model"
      ]
    },
    {
      "cell_type": "code",
      "execution_count": null,
      "metadata": {
        "id": "lRaEiz8tMtk1"
      },
      "outputs": [],
      "source": []
    }
  ],
  "metadata": {
    "colab": {
      "collapsed_sections": [],
      "provenance": []
    },
    "kernelspec": {
      "display_name": "Python 3",
      "language": "python",
      "name": "python3"
    },
    "language_info": {
      "codemirror_mode": {
        "name": "ipython",
        "version": 3
      },
      "file_extension": ".py",
      "mimetype": "text/x-python",
      "name": "python",
      "nbconvert_exporter": "python",
      "pygments_lexer": "ipython3",
      "version": "3.8.5"
    }
  },
  "nbformat": 4,
  "nbformat_minor": 0
}
