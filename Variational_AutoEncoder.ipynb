{
 "cells": [
  {
   "cell_type": "code",
   "execution_count": 1,
   "metadata": {},
   "outputs": [],
   "source": [
    "#importing the libraries\n",
    "import numpy as np\n",
    "import pandas as pd\n",
    "import tensorflow as tf\n",
    "import matplotlib.pyplot as plt\n",
    "import skimage\n",
    "from skimage import io, transform\n",
    "from tensorflow import keras\n",
    "from keras import layers\n",
    "from sklearn.model_selection import train_test_split"
   ]
  },
  {
   "cell_type": "code",
   "execution_count": 2,
   "metadata": {},
   "outputs": [],
   "source": [
    "#Importing the images\n",
    "Image_path = 'D:\\MTP_P1\\W10\\Trial_2D_TopDeep\\Excel_data\\img'\n",
    "coll = skimage.io.ImageCollection(Image_path + '/*.png') \n",
    "\n",
    "#coll has the images as they are in the directory i.e is sorted order, also name of files can be viewed as coll.files[0] , shape as col[0].shape\n",
    "\n",
    "# Now we will resize the image into 50*100 (width*length) , for that first we make a list as assignment is not allowed in ImageCollection, then push list itemps to a numpy array of required size\n",
    "img_list = []\n",
    "for i in range(len(coll)):\n",
    "    img = transform.resize(coll[i], output_shape=(100,100))\n",
    "    img_list.append(img)\n",
    "\n",
    "img_arr = np.empty((120,100,100,3)) #initializes an empty numpy array which will contain 120 entries, each entry will be a 3 stacked matrices.\n",
    "for i in range(120):\n",
    "    img_arr[i] = np.asarray(img_list[i])\n"
   ]
  },
  {
   "cell_type": "code",
   "execution_count": 3,
   "metadata": {},
   "outputs": [
    {
     "data": {
      "image/png": "[encoded data removed]",
      "text/plain": [
       "<Figure size 360x360 with 9 Axes>"
      ]
     },
     "metadata": {
      "needs_background": "light"
     },
     "output_type": "display_data"
    }
   ],
   "source": [
    "#visualizing the images\n",
    "fig = plt.figure(figsize=(5, 5))\n",
    "columns = 3\n",
    "rows = 3\n",
    "for i in range(1, columns*rows +1):\n",
    "    img = img_arr[i]\n",
    "    fig.add_subplot(rows, columns, i)\n",
    "    plt.imshow(img)\n",
    "plt.show()"
   ]
  },
  {
   "cell_type": "code",
   "execution_count": 4,
   "metadata": {},
   "outputs": [],
   "source": [
    "#now corresponding to each image we need an input tensor of size 50*100*3, matrices will contain volumefrac, fy , fx\n",
    "top_set = np.empty((120,100,100,3))\n",
    "#now we import our excel sheet which will provide the values with which we will populate our matrices\n",
    "set_data = pd.read_excel(\"Top_setting.xlsx\").values # .values will remove the headers i.e name of the columns\n",
    "\n",
    "#updating the top_set to create our input with shape 120*50*100*3\n",
    "\n",
    "for i in range(top_set.shape[0]):\n",
    "    for j in range(top_set.shape[1]):\n",
    "        for k in range(top_set.shape[2]):\n",
    "            for l in range(top_set.shape[3]):\n",
    "                top_set[i][j][k][l] = set_data[i][l]\n",
    "\n",
    "# Now we have our input and outputs:\n",
    "# input = top_set : shape - (120, 100, 100, 3)\n",
    "# output = img_arr : shape - (120, 100, 100, 3)"
   ]
  },
  {
   "cell_type": "code",
   "execution_count": 5,
   "metadata": {},
   "outputs": [],
   "source": [
    "#Now building The VAE Model"
   ]
  },
  {
   "cell_type": "code",
   "execution_count": 6,
   "metadata": {},
   "outputs": [],
   "source": [
    "#create a sampling layer\n",
    "class Sampling(layers.Layer):\n",
    "    #uses (z_mean, z_log_var) to sample z, the vector encoding a digit\n",
    "    \n",
    "    def call(self, inputs):\n",
    "        z_mean, z_log_var = inputs\n",
    "        batch = tf.shape(z_mean)[0]\n",
    "        dim = tf.shape(z_mean)[1]\n",
    "        epsilon = tf.keras.backend.random_normal(shape =(batch, dim))\n",
    "        return z_mean + tf.exp(0.5*z_log_var)*epsilon"
   ]
  },
  {
   "cell_type": "code",
   "execution_count": 7,
   "metadata": {},
   "outputs": [
    {
     "name": "stdout",
     "output_type": "stream",
     "text": [
      "Model: \"encoder\"\n",
      "__________________________________________________________________________________________________\n",
      " Layer (type)                   Output Shape         Param #     Connected to                     \n",
      "==================================================================================================\n",
      " input_1 (InputLayer)           [(None, 100, 100, 3  0           []                               \n",
      "                                )]                                                                \n",
      "                                                                                                  \n",
      " conv2d (Conv2D)                (None, 50, 50, 30)   840         ['input_1[0][0]']                \n",
      "                                                                                                  \n",
      " conv2d_1 (Conv2D)              (None, 25, 25, 60)   16260       ['conv2d[0][0]']                 \n",
      "                                                                                                  \n",
      " flatten (Flatten)              (None, 37500)        0           ['conv2d_1[0][0]']               \n",
      "                                                                                                  \n",
      " dense (Dense)                  (None, 16)           600016      ['flatten[0][0]']                \n",
      "                                                                                                  \n",
      " z_mean (Dense)                 (None, 2)            34          ['dense[0][0]']                  \n",
      "                                                                                                  \n",
      " z_log_var (Dense)              (None, 2)            34          ['dense[0][0]']                  \n",
      "                                                                                                  \n",
      " sampling (Sampling)            (None, 2)            0           ['z_mean[0][0]',                 \n",
      "                                                                  'z_log_var[0][0]']              \n",
      "                                                                                                  \n",
      "==================================================================================================\n",
      "Total params: 617,184\n",
      "Trainable params: 617,184\n",
      "Non-trainable params: 0\n",
      "__________________________________________________________________________________________________\n"
     ]
    }
   ],
   "source": [
    "#Build the encoder\n",
    "\n",
    "latent_dim = 2\n",
    "\n",
    "encoder_inputs = keras.Input(shape=(100,100,3))\n",
    "x = layers.Conv2D(30, 3, activation='relu',strides = 2, padding='same')(encoder_inputs)\n",
    "x = layers.Conv2D(60, 3, activation='relu',strides = 2, padding ='same')(x)\n",
    "\n",
    "conv_shape = keras.backend.int_shape(x)\n",
    "\n",
    "x = layers.Flatten()(x)\n",
    "x = layers.Dense(16, activation ='relu')(x)\n",
    "\n",
    "z_mean = layers.Dense(latent_dim, name='z_mean')(x)\n",
    "z_log_var = layers.Dense(latent_dim, name='z_log_var')(x)\n",
    "z = Sampling()([z_mean, z_log_var])\n",
    "encoder = keras.Model(encoder_inputs, [z_mean, z_log_var, z], name='encoder')\n",
    "encoder.summary()"
   ]
  },
  {
   "cell_type": "code",
   "execution_count": 8,
   "metadata": {},
   "outputs": [
    {
     "name": "stdout",
     "output_type": "stream",
     "text": [
      "25\n",
      "25\n",
      "60\n"
     ]
    },
    {
     "data": {
      "text/plain": [
       "'2.10.0'"
      ]
     },
     "execution_count": 8,
     "metadata": {},
     "output_type": "execute_result"
    }
   ],
   "source": [
    "print(conv_shape[1])\n",
    "print(conv_shape[2])\n",
    "print(conv_shape[3])\n",
    "tf.__version__\n",
    "keras.__version__"
   ]
  },
  {
   "cell_type": "code",
   "execution_count": 9,
   "metadata": {},
   "outputs": [
    {
     "name": "stdout",
     "output_type": "stream",
     "text": [
      "Model: \"decoder\"\n",
      "_________________________________________________________________\n",
      " Layer (type)                Output Shape              Param #   \n",
      "=================================================================\n",
      " input_2 (InputLayer)        [(None, 2)]               0         \n",
      "                                                                 \n",
      " dense_1 (Dense)             (None, 37500)             112500    \n",
      "                                                                 \n",
      " reshape (Reshape)           (None, 25, 25, 60)        0         \n",
      "                                                                 \n",
      " conv2d_transpose (Conv2DTra  (None, 50, 50, 60)       32460     \n",
      " nspose)                                                         \n",
      "                                                                 \n",
      " conv2d_transpose_1 (Conv2DT  (None, 100, 100, 30)     16230     \n",
      " ranspose)                                                       \n",
      "                                                                 \n",
      " conv2d_transpose_2 (Conv2DT  (None, 100, 100, 3)      813       \n",
      " ranspose)                                                       \n",
      "                                                                 \n",
      "=================================================================\n",
      "Total params: 162,003\n",
      "Trainable params: 162,003\n",
      "Non-trainable params: 0\n",
      "_________________________________________________________________\n"
     ]
    }
   ],
   "source": [
    "#Build the decoder\n",
    "latent_inputs = keras.Input(shape=(latent_dim,))\n",
    "x = layers.Dense(conv_shape[1]*conv_shape[2]*conv_shape[3], activation='relu')(latent_inputs)\n",
    "x = layers.Reshape((conv_shape[1],conv_shape[2],conv_shape[3]))(x)\n",
    "x = layers.Conv2DTranspose(60, 3, activation = 'relu' , strides = 2, padding = 'same')(x)\n",
    "x = layers.Conv2DTranspose(30, 3, activation = 'relu' , strides = 2, padding = 'same')(x)\n",
    "decoder_outputs = layers.Conv2DTranspose(3, 3, activation = 'sigmoid', padding = 'same')(x)\n",
    "decoder = keras.Model(latent_inputs, decoder_outputs, name = 'decoder')\n",
    "decoder.summary()"
   ]
  },
  {
   "cell_type": "code",
   "execution_count": 10,
   "metadata": {},
   "outputs": [],
   "source": [
    "#Define the VAE as model with custom loss and train setup\n",
    "class VAE(keras.Model):\n",
    "    def __init__(self, encoder, decoder, **kwargs):\n",
    "        super(VAE, self).__init__(**kwargs)\n",
    "        self.encoder = encoder\n",
    "        self.decoder = decoder\n",
    "        self.total_loss_tracker = keras.metrics.Mean(name=\"total_loss\")\n",
    "        self.reconstruction_loss_tracker = keras.metrics.Mean(\n",
    "            name=\"reconstruction_loss\"\n",
    "        )\n",
    "        self.kl_loss_tracker = keras.metrics.Mean(name=\"kl_loss\")\n",
    "\n",
    "    @property\n",
    "    def metrics(self):\n",
    "        return [\n",
    "            self.total_loss_tracker,\n",
    "            self.reconstruction_loss_tracker,\n",
    "            self.kl_loss_tracker,\n",
    "        ]\n",
    "\n",
    "    def train_step(self, data):\n",
    "        with tf.GradientTape() as tape:\n",
    "            z_mean, z_log_var, z = self.encoder(data)\n",
    "            reconstruction = self.decoder(z)\n",
    "            reconstruction_loss = tf.reduce_mean(\n",
    "                tf.reduce_sum(\n",
    "                    keras.losses.binary_crossentropy(data, reconstruction), axis=(1, 2)\n",
    "                )\n",
    "            )\n",
    "            kl_loss = -0.5 * (1 + z_log_var - tf.square(z_mean) - tf.exp(z_log_var))\n",
    "            kl_loss = tf.reduce_mean(tf.reduce_sum(kl_loss, axis=1))\n",
    "            total_loss = reconstruction_loss + kl_loss\n",
    "        grads = tape.gradient(total_loss, self.trainable_weights)\n",
    "        self.optimizer.apply_gradients(zip(grads, self.trainable_weights))\n",
    "        self.total_loss_tracker.update_state(total_loss)\n",
    "        self.reconstruction_loss_tracker.update_state(reconstruction_loss)\n",
    "        self.kl_loss_tracker.update_state(kl_loss)\n",
    "        return {\n",
    "            \"loss\": self.total_loss_tracker.result(),\n",
    "            \"reconstruction_loss\": self.reconstruction_loss_tracker.result(),\n",
    "            \"kl_loss\": self.kl_loss_tracker.result(),\n",
    "        }\n"
   ]
  },
  {
   "cell_type": "code",
   "execution_count": 13,
   "metadata": {},
   "outputs": [
    {
     "name": "stdout",
     "output_type": "stream",
     "text": [
      "Epoch 1/10\n",
      "120/120 [==============================] - 3s 13ms/step - loss: 1357.9479 - reconstruction_loss: 1364.3246 - kl_loss: 0.0053\n",
      "Epoch 2/10\n",
      "120/120 [==============================] - 2s 18ms/step - loss: 1343.5189 - reconstruction_loss: 1353.1616 - kl_loss: 0.0071\n",
      "Epoch 3/10\n",
      "120/120 [==============================] - 2s 13ms/step - loss: 1296.2170 - reconstruction_loss: 1348.1294 - kl_loss: 0.0084\n",
      "Epoch 4/10\n",
      "120/120 [==============================] - 2s 13ms/step - loss: 1371.6321 - reconstruction_loss: 1347.0593 - kl_loss: 0.0108\n",
      "Epoch 5/10\n",
      "120/120 [==============================] - 1s 12ms/step - loss: 1333.0140 - reconstruction_loss: 1334.3262 - kl_loss: 0.0133\n",
      "Epoch 6/10\n",
      "120/120 [==============================] - 2s 14ms/step - loss: 1332.8158 - reconstruction_loss: 1339.2240 - kl_loss: 0.0149\n",
      "Epoch 7/10\n",
      "120/120 [==============================] - 2s 14ms/step - loss: 1317.7505 - reconstruction_loss: 1327.9624 - kl_loss: 0.0175\n",
      "Epoch 8/10\n",
      "120/120 [==============================] - 2s 13ms/step - loss: 1349.1944 - reconstruction_loss: 1334.7380 - kl_loss: 0.0213\n",
      "Epoch 9/10\n",
      "120/120 [==============================] - 2s 13ms/step - loss: 1340.4171 - reconstruction_loss: 1343.7999 - kl_loss: 0.0239\n",
      "Epoch 10/10\n",
      "120/120 [==============================] - 2s 14ms/step - loss: 1335.6474 - reconstruction_loss: 1324.3140 - kl_loss: 0.0261\n"
     ]
    },
    {
     "data": {
      "text/plain": [
       "<keras.callbacks.History at 0x2bac0d53940>"
      ]
     },
     "execution_count": 13,
     "metadata": {},
     "output_type": "execute_result"
    }
   ],
   "source": [
    "#Train the VAE\n",
    "X_train, X_test, y_train, y_test = train_test_split( top_set, img_arr, test_size=0.2, random_state=42)\n",
    "# mnist_digits = np.concatenate([x_train, x_test], axis = 0)\n",
    "# mnist_digits = np.expand_dims(mnist_digits, -1).astype('float32')/255\n",
    "X_train = X_train.astype('float32')/255\n",
    "X_test = X_test.astype('float32')/255\n",
    "X = np.concatenate([X_train, X_test], axis = 0)\n",
    "Y = np.concatenate([y_train, y_test], axis = 0)\n",
    "vae = VAE(encoder , decoder)\n",
    "vae.compile(optimizer=keras.optimizers.Adam())\n",
    "vae.fit(Y,epochs=10, batch_size = 1)\n"
   ]
  },
  {
   "cell_type": "code",
   "execution_count": null,
   "metadata": {},
   "outputs": [],
   "source": [
    "\n"
   ]
  },
  {
   "cell_type": "code",
   "execution_count": null,
   "metadata": {},
   "outputs": [],
   "source": []
  },
  {
   "cell_type": "code",
   "execution_count": null,
   "metadata": {},
   "outputs": [],
   "source": []
  }
 ],
 "metadata": {
  "kernelspec": {
   "display_name": "Python 3.9.12 ('base')",
   "language": "python",
   "name": "python3"
  },
  "language_info": {
   "codemirror_mode": {
    "name": "ipython",
    "version": 3
   },
   "file_extension": ".py",
   "mimetype": "text/x-python",
   "name": "python",
   "nbconvert_exporter": "python",
   "pygments_lexer": "ipython3",
   "version": "3.9.12"
  },
  "orig_nbformat": 4,
  "vscode": {
   "interpreter": {
    "hash": "88279d2366fe020547cde40dd65aa0e3aa662a6ec1f3ca12d88834876c85e1a6"
   }
  }
 },
 "nbformat": 4,
 "nbformat_minor": 2
}
